{
 "cells": [
  {
   "cell_type": "markdown",
   "id": "61bf5071-f40b-4163-91ca-6a177cd93e0a",
   "metadata": {},
   "source": [
    "<div style=\"color:white;\n",
    "           display:fill;\n",
    "           border-radius:5px;\n",
    "           background-color:#e8d0f5;\n",
    "           width: %20;\n",
    "           height: %50;\n",
    "           font-size:110%;\n",
    "           font-family:Verdana;\n",
    "           letter-spacing:0.5px\">\n",
    "    <h2>Introduction</h2>\n",
    "    <h4>RAG Application</h4>\n",
    "<h5 style=\"padding: 10px;\n",
    "              color:white;\">\n",
    "    <li>In this project I have used 5 cities wikipedia information/writing as corpus.</li>\n",
    "    <li>These cities are : Istanbul, Ankara, Kayseri, Bursa, Sivas and Mersin.</li>\n",
    "    <li>I converted vectorestore to retriever and create a ollama model chain.</li>\n",
    "    <li>By using them I created a rag chain and ask questions.</li>\n",
    "    <li>Looking questions embeddings and documents embeddings, retrieved most similar answers.</li>\n",
    "</h5>\n",
    "</div>"
   ]
  },
  {
   "cell_type": "code",
   "execution_count": 1,
   "id": "7557bc66-ad3b-48dc-ac3a-853cf30d89c1",
   "metadata": {},
   "outputs": [
    {
     "name": "stdout",
     "output_type": "stream",
     "text": [
      "Note: you may need to restart the kernel to use updated packages.\n"
     ]
    }
   ],
   "source": [
    "pip install langchain langchain_community langchain-openai scikit-learn langchain-ollama -q"
   ]
  },
  {
   "cell_type": "code",
   "execution_count": 48,
   "id": "09bdb0d3-b59d-44f5-b97b-5605f0bbef59",
   "metadata": {},
   "outputs": [],
   "source": [
    "import warnings\n",
    "warnings.filterwarnings(\"ignore\")"
   ]
  },
  {
   "cell_type": "code",
   "execution_count": 49,
   "id": "a7761ae7-e09a-4cb2-899f-8cac871212e4",
   "metadata": {},
   "outputs": [],
   "source": [
    "!pip install colorama -q"
   ]
  },
  {
   "cell_type": "code",
   "execution_count": 50,
   "id": "ccf09bd9-1009-43f0-aed8-c6cf6d8bab73",
   "metadata": {},
   "outputs": [],
   "source": [
    "from colorama import Fore, Style"
   ]
  },
  {
   "cell_type": "code",
   "execution_count": 51,
   "id": "fe1a3421-e3b9-41ef-8688-a7945b7c64f1",
   "metadata": {},
   "outputs": [],
   "source": [
    "from langchain_community.llms import Ollama\n",
    "from langchain_community.chat_models import ChatOllama\n",
    "from langchain_core.output_parsers import StrOutputParser\n",
    "from langchain_core.prompts import ChatPromptTemplate"
   ]
  },
  {
   "cell_type": "markdown",
   "id": "8ff20d30-36d5-43cd-8a6c-e5b1caad6fd6",
   "metadata": {},
   "source": [
    "reference : https://js.langchain.com/v0.1/docs/modules/data_connection/ \n",
    "![title](https://js.langchain.com/v0.1/assets/images/data_connection-c42d68c3d092b85f50d08d4cc171fc25.jpg)"
   ]
  },
  {
   "cell_type": "markdown",
   "id": "1ceeb299-448d-474c-93e3-fe839e89fa3b",
   "metadata": {},
   "source": [
    "reference : https://nvidia.github.io/GenerativeAIExamples/0.5.0/notebooks/02_langchain_simple.html\n",
    "![title](https://nvidia.github.io/GenerativeAIExamples/0.5.0/_images/vector_stores.jpeg)"
   ]
  },
  {
   "cell_type": "markdown",
   "id": "f474309f-f14a-4d61-ac6f-85ddf226e33c",
   "metadata": {},
   "source": [
    "### Load and prepare documents"
   ]
  },
  {
   "cell_type": "code",
   "execution_count": 52,
   "id": "adfdade8-767f-457f-9882-d8f9dfa802a2",
   "metadata": {},
   "outputs": [],
   "source": [
    "from langchain_community.document_loaders import WebBaseLoader\n",
    "from langchain.text_splitter import RecursiveCharacterTextSplitter\n",
    "# List of URLs to load documents from\n",
    "urls = [\n",
    "    \"https://en.wikipedia.org/wiki/Istanbul/\",\n",
    "    \"https://en.wikipedia.org/wiki/Ankara/\",\n",
    "    \"https://en.wikipedia.org/wiki/Kayseri/\",\n",
    "    \"https://en.wikipedia.org/wiki/Bursa/\",\n",
    "    \"https://en.wikipedia.org/wiki/Sivas/\",\n",
    "    \"https://en.wikipedia.org/wiki/Mersin/\"\n",
    "]\n",
    "# Load documents from the URLs\n",
    "docs = [WebBaseLoader(url).load() for url in urls]\n",
    "docs_list = [item for sublist in docs for item in sublist]"
   ]
  },
  {
   "cell_type": "code",
   "execution_count": 53,
   "id": "7583075b-b19c-4528-aa87-d3e0961110ed",
   "metadata": {
    "scrolled": true
   },
   "outputs": [
    {
     "data": {
      "text/plain": [
       "[[Document(metadata={'source': 'https://en.wikipedia.org/wiki/Istanbul/', 'title': 'Istanbul/ - Wikipedia', 'language': 'en'}, page_content='\\n\\n\\n\\nIstanbul/ - Wikipedia\\n\\n\\n\\n\\n\\n\\n\\n\\n\\n\\n\\n\\n\\n\\n\\n\\n\\n\\n\\n\\n\\n\\n\\n\\n\\n\\nJump to content\\n\\n\\n\\n\\n\\n\\n\\nMain menu\\n\\n\\n\\n\\n\\nMain menu\\nmove to sidebar\\nhide\\n\\n\\n\\n\\t\\tNavigation\\n\\t\\n\\n\\nMain pageContentsCurrent eventsRandom articleAbout WikipediaContact us\\n\\n\\n\\n\\n\\n\\t\\tContribute\\n\\t\\n\\n\\nHelpLearn to editCommunity portalRecent changesUpload file\\n\\n\\n\\n\\n\\n\\n\\n\\n\\n\\n\\n\\n\\n\\n\\n\\n\\n\\n\\nSearch\\n\\n\\n\\n\\n\\n\\n\\n\\n\\n\\n\\nSearch\\n\\n\\n\\n\\n\\n\\n\\n\\n\\n\\n\\n\\n\\n\\n\\n\\n\\n\\n\\n\\n\\n\\nAppearance\\n\\n\\n\\n\\n\\n\\n\\n\\n\\n\\n\\n\\n\\n\\n\\n\\nDonate\\n\\nCreate account\\n\\nLog in\\n\\n\\n\\n\\n\\n\\n\\n\\nPersonal tools\\n\\n\\n\\n\\n\\nDonate Create account Log in\\n\\n\\n\\n\\n\\n\\t\\tPages for logged out editors learn more\\n\\n\\n\\nContributionsTalk\\n\\n\\n\\n\\n\\n\\n\\n\\n\\n\\n\\n\\n\\n\\n\\n\\n\\n\\n\\n\\n\\n\\n\\n\\n\\n\\n\\nIstanbul/\\n\\n\\n\\nAdd languages\\n\\n\\n\\n\\t\\t\\t\\t\\t\\tPage contents not supported in other languages.\\n\\t\\t\\t\\t\\t\\n\\n\\n\\n\\n\\n\\n\\n\\n\\n\\nArticleTalk\\n\\n\\n\\n\\n\\nEnglish\\n\\n\\n\\n\\n\\n\\n\\n\\n\\n\\n\\n\\n\\n\\n\\n\\n\\n\\n\\n\\n\\n\\n\\n\\nTools\\n\\n\\n\\n\\n\\nTools\\nmove to sidebar\\nhide\\n\\n\\n\\n\\t\\tActions\\n\\t\\n\\n\\n\\n\\n\\n\\n\\n\\t\\tGeneral\\n\\t\\n\\n\\nWhat links hereUpload fileSpecial pagesPrintable versionPage informationGet shortened URLDownload QR code\\n\\n\\n\\n\\n\\n\\t\\tIn other projects\\n\\t\\n\\n\\n\\n\\n\\n\\n\\n\\n\\n\\n\\n\\n\\n\\n\\n\\n\\n\\n\\n\\n\\n\\n\\nAppearance\\nmove to sidebar\\nhide\\n\\n\\n\\n\\n\\n\\n\\n\\n\\n\\nFrom Wikipedia, the free encyclopedia\\n\\n\\n\\n\\nDid you mean: Istanbul? Look for Istanbul/ on one of Wikipedia\\'s sister projects:\\n\\n\\n\\n\\nWiktionary (dictionary)\\n\\n\\n\\nWikibooks (textbooks)\\n\\n\\n\\nWikiquote (quotations)\\n\\n\\n\\nWikisource (library)\\n\\n\\n\\nWikiversity (learning resources)\\n\\n\\n\\nCommons (media)\\n\\n\\n\\nWikivoyage (travel guide)\\n\\n\\n\\nWikinews (news source)\\n\\n\\n\\nWikidata (linked database)\\n\\n\\n\\nWikispecies (species directory)\\n\\n\\n\\nWikipedia does not have an article with this exact name. Please search for Istanbul/ in Wikipedia to check for alternative titles or spellings.\\nYou need to log in or create an account and be autoconfirmed to create new articles. Alternatively, you can use the article wizard to submit a draft for review, or request a new article.\\nSearch for \"Istanbul/\" in existing articles.\\nLook for pages within Wikipedia that link to this title.\\n\\n\\nOther reasons this message may be displayed:\\n\\nIf a page was recently created here, it may not be visible yet because of a delay in updating the database; wait a few minutes or try the purge function.\\nTitles on Wikipedia are case sensitive except for the first character; please check alternative capitalizations and consider adding a redirect here to the correct title.\\nIf the page has been deleted, check the deletion log, and see Why was the page I created deleted?\\n\\n\\n\\nRetrieved from \"https://en.wikipedia.org/wiki/Istanbul/\"\\n\\n\\n\\n\\n\\n\\n\\n\\n\\nPrivacy policy\\nAbout Wikipedia\\nDisclaimers\\nContact Wikipedia\\nCode of Conduct\\nDevelopers\\nStatistics\\nCookie statement\\nMobile view\\n\\n\\n\\n\\n\\n\\n\\n\\n\\n\\n\\n\\n\\n')],\n",
       " [Document(metadata={'source': 'https://en.wikipedia.org/wiki/Ankara/', 'title': 'Ankara/ - Wikipedia', 'language': 'en'}, page_content='\\n\\n\\n\\nAnkara/ - Wikipedia\\n\\n\\n\\n\\n\\n\\n\\n\\n\\n\\n\\n\\n\\n\\n\\n\\n\\n\\n\\n\\n\\n\\n\\n\\n\\n\\nJump to content\\n\\n\\n\\n\\n\\n\\n\\nMain menu\\n\\n\\n\\n\\n\\nMain menu\\nmove to sidebar\\nhide\\n\\n\\n\\n\\t\\tNavigation\\n\\t\\n\\n\\nMain pageContentsCurrent eventsRandom articleAbout WikipediaContact us\\n\\n\\n\\n\\n\\n\\t\\tContribute\\n\\t\\n\\n\\nHelpLearn to editCommunity portalRecent changesUpload file\\n\\n\\n\\n\\n\\n\\n\\n\\n\\n\\n\\n\\n\\n\\n\\n\\n\\n\\n\\nSearch\\n\\n\\n\\n\\n\\n\\n\\n\\n\\n\\n\\nSearch\\n\\n\\n\\n\\n\\n\\n\\n\\n\\n\\n\\n\\n\\n\\n\\n\\n\\n\\n\\n\\n\\n\\nAppearance\\n\\n\\n\\n\\n\\n\\n\\n\\n\\n\\n\\n\\n\\n\\n\\n\\nDonate\\n\\nCreate account\\n\\nLog in\\n\\n\\n\\n\\n\\n\\n\\n\\nPersonal tools\\n\\n\\n\\n\\n\\nDonate Create account Log in\\n\\n\\n\\n\\n\\n\\t\\tPages for logged out editors learn more\\n\\n\\n\\nContributionsTalk\\n\\n\\n\\n\\n\\n\\n\\n\\n\\n\\n\\n\\n\\n\\n\\n\\n\\n\\n\\n\\n\\n\\n\\n\\n\\n\\n\\nAnkara/\\n\\n\\n\\nAdd languages\\n\\n\\n\\n\\t\\t\\t\\t\\t\\tPage contents not supported in other languages.\\n\\t\\t\\t\\t\\t\\n\\n\\n\\n\\n\\n\\n\\n\\n\\n\\nArticleTalk\\n\\n\\n\\n\\n\\nEnglish\\n\\n\\n\\n\\n\\n\\n\\n\\n\\n\\n\\n\\n\\n\\n\\n\\n\\n\\n\\n\\n\\n\\n\\n\\nTools\\n\\n\\n\\n\\n\\nTools\\nmove to sidebar\\nhide\\n\\n\\n\\n\\t\\tActions\\n\\t\\n\\n\\n\\n\\n\\n\\n\\n\\t\\tGeneral\\n\\t\\n\\n\\nWhat links hereUpload fileSpecial pagesPrintable versionPage informationGet shortened URLDownload QR code\\n\\n\\n\\n\\n\\n\\t\\tIn other projects\\n\\t\\n\\n\\n\\n\\n\\n\\n\\n\\n\\n\\n\\n\\n\\n\\n\\n\\n\\n\\n\\n\\n\\n\\n\\nAppearance\\nmove to sidebar\\nhide\\n\\n\\n\\n\\n\\n\\n\\n\\n\\n\\nFrom Wikipedia, the free encyclopedia\\n\\n\\n\\n\\nDid you mean: Ankara? Look for Ankara/ on one of Wikipedia\\'s sister projects:\\n\\n\\n\\n\\nWiktionary (dictionary)\\n\\n\\n\\nWikibooks (textbooks)\\n\\n\\n\\nWikiquote (quotations)\\n\\n\\n\\nWikisource (library)\\n\\n\\n\\nWikiversity (learning resources)\\n\\n\\n\\nCommons (media)\\n\\n\\n\\nWikivoyage (travel guide)\\n\\n\\n\\nWikinews (news source)\\n\\n\\n\\nWikidata (linked database)\\n\\n\\n\\nWikispecies (species directory)\\n\\n\\n\\nWikipedia does not have an article with this exact name. Please search for Ankara/ in Wikipedia to check for alternative titles or spellings.\\nYou need to log in or create an account and be autoconfirmed to create new articles. Alternatively, you can use the article wizard to submit a draft for review, or request a new article.\\nSearch for \"Ankara/\" in existing articles.\\nLook for pages within Wikipedia that link to this title.\\n\\n\\nOther reasons this message may be displayed:\\n\\nIf a page was recently created here, it may not be visible yet because of a delay in updating the database; wait a few minutes or try the purge function.\\nTitles on Wikipedia are case sensitive except for the first character; please check alternative capitalizations and consider adding a redirect here to the correct title.\\nIf the page has been deleted, check the deletion log, and see Why was the page I created deleted?\\n\\n\\n\\nRetrieved from \"https://en.wikipedia.org/wiki/Ankara/\"\\n\\n\\n\\n\\n\\n\\n\\n\\n\\nPrivacy policy\\nAbout Wikipedia\\nDisclaimers\\nContact Wikipedia\\nCode of Conduct\\nDevelopers\\nStatistics\\nCookie statement\\nMobile view\\n\\n\\n\\n\\n\\n\\n\\n\\n\\n\\n\\n\\n\\n')],\n",
       " [Document(metadata={'source': 'https://en.wikipedia.org/wiki/Kayseri/', 'title': 'Kayseri/ - Wikipedia', 'language': 'en'}, page_content='\\n\\n\\n\\nKayseri/ - Wikipedia\\n\\n\\n\\n\\n\\n\\n\\n\\n\\n\\n\\n\\n\\n\\n\\n\\n\\n\\n\\n\\n\\n\\n\\n\\n\\n\\nJump to content\\n\\n\\n\\n\\n\\n\\n\\nMain menu\\n\\n\\n\\n\\n\\nMain menu\\nmove to sidebar\\nhide\\n\\n\\n\\n\\t\\tNavigation\\n\\t\\n\\n\\nMain pageContentsCurrent eventsRandom articleAbout WikipediaContact us\\n\\n\\n\\n\\n\\n\\t\\tContribute\\n\\t\\n\\n\\nHelpLearn to editCommunity portalRecent changesUpload file\\n\\n\\n\\n\\n\\n\\n\\n\\n\\n\\n\\n\\n\\n\\n\\n\\n\\n\\n\\nSearch\\n\\n\\n\\n\\n\\n\\n\\n\\n\\n\\n\\nSearch\\n\\n\\n\\n\\n\\n\\n\\n\\n\\n\\n\\n\\n\\n\\n\\n\\n\\n\\n\\n\\n\\n\\nAppearance\\n\\n\\n\\n\\n\\n\\n\\n\\n\\n\\n\\n\\n\\n\\n\\n\\nDonate\\n\\nCreate account\\n\\nLog in\\n\\n\\n\\n\\n\\n\\n\\n\\nPersonal tools\\n\\n\\n\\n\\n\\nDonate Create account Log in\\n\\n\\n\\n\\n\\n\\t\\tPages for logged out editors learn more\\n\\n\\n\\nContributionsTalk\\n\\n\\n\\n\\n\\n\\n\\n\\n\\n\\n\\n\\n\\n\\n\\n\\n\\n\\n\\n\\n\\n\\n\\n\\n\\n\\n\\nKayseri/\\n\\n\\n\\nAdd languages\\n\\n\\n\\n\\t\\t\\t\\t\\t\\tPage contents not supported in other languages.\\n\\t\\t\\t\\t\\t\\n\\n\\n\\n\\n\\n\\n\\n\\n\\n\\nArticleTalk\\n\\n\\n\\n\\n\\nEnglish\\n\\n\\n\\n\\n\\n\\n\\n\\n\\n\\n\\n\\n\\n\\n\\n\\n\\n\\n\\n\\n\\n\\n\\n\\nTools\\n\\n\\n\\n\\n\\nTools\\nmove to sidebar\\nhide\\n\\n\\n\\n\\t\\tActions\\n\\t\\n\\n\\n\\n\\n\\n\\n\\n\\t\\tGeneral\\n\\t\\n\\n\\nWhat links hereUpload fileSpecial pagesPrintable versionPage informationGet shortened URLDownload QR code\\n\\n\\n\\n\\n\\n\\t\\tIn other projects\\n\\t\\n\\n\\n\\n\\n\\n\\n\\n\\n\\n\\n\\n\\n\\n\\n\\n\\n\\n\\n\\n\\n\\n\\n\\nAppearance\\nmove to sidebar\\nhide\\n\\n\\n\\n\\n\\n\\n\\n\\n\\n\\nFrom Wikipedia, the free encyclopedia\\n\\n\\n\\n\\nDid you mean: Kayseri? Look for Kayseri/ on one of Wikipedia\\'s sister projects:\\n\\n\\n\\n\\nWiktionary (dictionary)\\n\\n\\n\\nWikibooks (textbooks)\\n\\n\\n\\nWikiquote (quotations)\\n\\n\\n\\nWikisource (library)\\n\\n\\n\\nWikiversity (learning resources)\\n\\n\\n\\nCommons (media)\\n\\n\\n\\nWikivoyage (travel guide)\\n\\n\\n\\nWikinews (news source)\\n\\n\\n\\nWikidata (linked database)\\n\\n\\n\\nWikispecies (species directory)\\n\\n\\n\\nWikipedia does not have an article with this exact name. Please search for Kayseri/ in Wikipedia to check for alternative titles or spellings.\\nYou need to log in or create an account and be autoconfirmed to create new articles. Alternatively, you can use the article wizard to submit a draft for review, or request a new article.\\nSearch for \"Kayseri/\" in existing articles.\\nLook for pages within Wikipedia that link to this title.\\n\\n\\nOther reasons this message may be displayed:\\n\\nIf a page was recently created here, it may not be visible yet because of a delay in updating the database; wait a few minutes or try the purge function.\\nTitles on Wikipedia are case sensitive except for the first character; please check alternative capitalizations and consider adding a redirect here to the correct title.\\nIf the page has been deleted, check the deletion log, and see Why was the page I created deleted?\\n\\n\\n\\nRetrieved from \"https://en.wikipedia.org/wiki/Kayseri/\"\\n\\n\\n\\n\\n\\n\\n\\n\\n\\nPrivacy policy\\nAbout Wikipedia\\nDisclaimers\\nContact Wikipedia\\nCode of Conduct\\nDevelopers\\nStatistics\\nCookie statement\\nMobile view\\n\\n\\n\\n\\n\\n\\n\\n\\n\\n\\n\\n\\n\\n')],\n",
       " [Document(metadata={'source': 'https://en.wikipedia.org/wiki/Bursa/', 'title': 'Bursa/ - Wikipedia', 'language': 'en'}, page_content='\\n\\n\\n\\nBursa/ - Wikipedia\\n\\n\\n\\n\\n\\n\\n\\n\\n\\n\\n\\n\\n\\n\\n\\n\\n\\n\\n\\n\\n\\n\\n\\n\\n\\n\\nJump to content\\n\\n\\n\\n\\n\\n\\n\\nMain menu\\n\\n\\n\\n\\n\\nMain menu\\nmove to sidebar\\nhide\\n\\n\\n\\n\\t\\tNavigation\\n\\t\\n\\n\\nMain pageContentsCurrent eventsRandom articleAbout WikipediaContact us\\n\\n\\n\\n\\n\\n\\t\\tContribute\\n\\t\\n\\n\\nHelpLearn to editCommunity portalRecent changesUpload file\\n\\n\\n\\n\\n\\n\\n\\n\\n\\n\\n\\n\\n\\n\\n\\n\\n\\n\\n\\nSearch\\n\\n\\n\\n\\n\\n\\n\\n\\n\\n\\n\\nSearch\\n\\n\\n\\n\\n\\n\\n\\n\\n\\n\\n\\n\\n\\n\\n\\n\\n\\n\\n\\n\\n\\n\\nAppearance\\n\\n\\n\\n\\n\\n\\n\\n\\n\\n\\n\\n\\n\\n\\n\\n\\nDonate\\n\\nCreate account\\n\\nLog in\\n\\n\\n\\n\\n\\n\\n\\n\\nPersonal tools\\n\\n\\n\\n\\n\\nDonate Create account Log in\\n\\n\\n\\n\\n\\n\\t\\tPages for logged out editors learn more\\n\\n\\n\\nContributionsTalk\\n\\n\\n\\n\\n\\n\\n\\n\\n\\n\\n\\n\\n\\n\\n\\n\\n\\n\\n\\n\\n\\n\\n\\n\\n\\n\\n\\nBursa/\\n\\n\\n\\nAdd languages\\n\\n\\n\\n\\t\\t\\t\\t\\t\\tPage contents not supported in other languages.\\n\\t\\t\\t\\t\\t\\n\\n\\n\\n\\n\\n\\n\\n\\n\\n\\nArticleTalk\\n\\n\\n\\n\\n\\nEnglish\\n\\n\\n\\n\\n\\n\\n\\n\\n\\n\\n\\n\\n\\n\\n\\n\\n\\n\\n\\n\\n\\n\\n\\n\\nTools\\n\\n\\n\\n\\n\\nTools\\nmove to sidebar\\nhide\\n\\n\\n\\n\\t\\tActions\\n\\t\\n\\n\\n\\n\\n\\n\\n\\n\\t\\tGeneral\\n\\t\\n\\n\\nWhat links hereUpload fileSpecial pagesPrintable versionPage informationGet shortened URLDownload QR code\\n\\n\\n\\n\\n\\n\\t\\tIn other projects\\n\\t\\n\\n\\n\\n\\n\\n\\n\\n\\n\\n\\n\\n\\n\\n\\n\\n\\n\\n\\n\\n\\n\\n\\n\\nAppearance\\nmove to sidebar\\nhide\\n\\n\\n\\n\\n\\n\\n\\n\\n\\n\\nFrom Wikipedia, the free encyclopedia\\n\\n\\n\\n\\nDid you mean: Bursa? Look for Bursa/ on one of Wikipedia\\'s sister projects:\\n\\n\\n\\n\\nWiktionary (dictionary)\\n\\n\\n\\nWikibooks (textbooks)\\n\\n\\n\\nWikiquote (quotations)\\n\\n\\n\\nWikisource (library)\\n\\n\\n\\nWikiversity (learning resources)\\n\\n\\n\\nCommons (media)\\n\\n\\n\\nWikivoyage (travel guide)\\n\\n\\n\\nWikinews (news source)\\n\\n\\n\\nWikidata (linked database)\\n\\n\\n\\nWikispecies (species directory)\\n\\n\\n\\nWikipedia does not have an article with this exact name. Please search for Bursa/ in Wikipedia to check for alternative titles or spellings.\\nYou need to log in or create an account and be autoconfirmed to create new articles. Alternatively, you can use the article wizard to submit a draft for review, or request a new article.\\nSearch for \"Bursa/\" in existing articles.\\nLook for pages within Wikipedia that link to this title.\\n\\n\\nOther reasons this message may be displayed:\\n\\nIf a page was recently created here, it may not be visible yet because of a delay in updating the database; wait a few minutes or try the purge function.\\nTitles on Wikipedia are case sensitive except for the first character; please check alternative capitalizations and consider adding a redirect here to the correct title.\\nIf the page has been deleted, check the deletion log, and see Why was the page I created deleted?\\n\\n\\n\\nRetrieved from \"https://en.wikipedia.org/wiki/Bursa/\"\\n\\n\\n\\n\\n\\n\\n\\n\\n\\nPrivacy policy\\nAbout Wikipedia\\nDisclaimers\\nContact Wikipedia\\nCode of Conduct\\nDevelopers\\nStatistics\\nCookie statement\\nMobile view\\n\\n\\n\\n\\n\\n\\n\\n\\n\\n\\n\\n\\n\\n')],\n",
       " [Document(metadata={'source': 'https://en.wikipedia.org/wiki/Sivas/', 'title': 'Sivas/ - Wikipedia', 'language': 'en'}, page_content='\\n\\n\\n\\nSivas/ - Wikipedia\\n\\n\\n\\n\\n\\n\\n\\n\\n\\n\\n\\n\\n\\n\\n\\n\\n\\n\\n\\n\\n\\n\\n\\n\\n\\n\\nJump to content\\n\\n\\n\\n\\n\\n\\n\\nMain menu\\n\\n\\n\\n\\n\\nMain menu\\nmove to sidebar\\nhide\\n\\n\\n\\n\\t\\tNavigation\\n\\t\\n\\n\\nMain pageContentsCurrent eventsRandom articleAbout WikipediaContact us\\n\\n\\n\\n\\n\\n\\t\\tContribute\\n\\t\\n\\n\\nHelpLearn to editCommunity portalRecent changesUpload file\\n\\n\\n\\n\\n\\n\\n\\n\\n\\n\\n\\n\\n\\n\\n\\n\\n\\n\\n\\nSearch\\n\\n\\n\\n\\n\\n\\n\\n\\n\\n\\n\\nSearch\\n\\n\\n\\n\\n\\n\\n\\n\\n\\n\\n\\n\\n\\n\\n\\n\\n\\n\\n\\n\\n\\n\\nAppearance\\n\\n\\n\\n\\n\\n\\n\\n\\n\\n\\n\\n\\n\\n\\n\\n\\nDonate\\n\\nCreate account\\n\\nLog in\\n\\n\\n\\n\\n\\n\\n\\n\\nPersonal tools\\n\\n\\n\\n\\n\\nDonate Create account Log in\\n\\n\\n\\n\\n\\n\\t\\tPages for logged out editors learn more\\n\\n\\n\\nContributionsTalk\\n\\n\\n\\n\\n\\n\\n\\n\\n\\n\\n\\n\\n\\n\\n\\n\\n\\n\\n\\n\\n\\n\\n\\n\\n\\n\\n\\nSivas/\\n\\n\\n\\nAdd languages\\n\\n\\n\\n\\t\\t\\t\\t\\t\\tPage contents not supported in other languages.\\n\\t\\t\\t\\t\\t\\n\\n\\n\\n\\n\\n\\n\\n\\n\\n\\nArticleTalk\\n\\n\\n\\n\\n\\nEnglish\\n\\n\\n\\n\\n\\n\\n\\n\\n\\n\\n\\n\\n\\n\\n\\n\\n\\n\\n\\n\\n\\n\\n\\n\\nTools\\n\\n\\n\\n\\n\\nTools\\nmove to sidebar\\nhide\\n\\n\\n\\n\\t\\tActions\\n\\t\\n\\n\\n\\n\\n\\n\\n\\n\\t\\tGeneral\\n\\t\\n\\n\\nWhat links hereUpload fileSpecial pagesPrintable versionPage informationGet shortened URLDownload QR code\\n\\n\\n\\n\\n\\n\\t\\tIn other projects\\n\\t\\n\\n\\n\\n\\n\\n\\n\\n\\n\\n\\n\\n\\n\\n\\n\\n\\n\\n\\n\\n\\n\\n\\n\\nAppearance\\nmove to sidebar\\nhide\\n\\n\\n\\n\\n\\n\\n\\n\\n\\n\\nFrom Wikipedia, the free encyclopedia\\n\\n\\n\\n\\nDid you mean: Sivas? Look for Sivas/ on one of Wikipedia\\'s sister projects:\\n\\n\\n\\n\\nWiktionary (dictionary)\\n\\n\\n\\nWikibooks (textbooks)\\n\\n\\n\\nWikiquote (quotations)\\n\\n\\n\\nWikisource (library)\\n\\n\\n\\nWikiversity (learning resources)\\n\\n\\n\\nCommons (media)\\n\\n\\n\\nWikivoyage (travel guide)\\n\\n\\n\\nWikinews (news source)\\n\\n\\n\\nWikidata (linked database)\\n\\n\\n\\nWikispecies (species directory)\\n\\n\\n\\nWikipedia does not have an article with this exact name. Please search for Sivas/ in Wikipedia to check for alternative titles or spellings.\\nYou need to log in or create an account and be autoconfirmed to create new articles. Alternatively, you can use the article wizard to submit a draft for review, or request a new article.\\nSearch for \"Sivas/\" in existing articles.\\nLook for pages within Wikipedia that link to this title.\\n\\n\\nOther reasons this message may be displayed:\\n\\nIf a page was recently created here, it may not be visible yet because of a delay in updating the database; wait a few minutes or try the purge function.\\nTitles on Wikipedia are case sensitive except for the first character; please check alternative capitalizations and consider adding a redirect here to the correct title.\\nIf the page has been deleted, check the deletion log, and see Why was the page I created deleted?\\n\\n\\n\\nRetrieved from \"https://en.wikipedia.org/wiki/Sivas/\"\\n\\n\\n\\n\\n\\n\\n\\n\\n\\nPrivacy policy\\nAbout Wikipedia\\nDisclaimers\\nContact Wikipedia\\nCode of Conduct\\nDevelopers\\nStatistics\\nCookie statement\\nMobile view\\n\\n\\n\\n\\n\\n\\n\\n\\n\\n\\n\\n\\n\\n')],\n",
       " [Document(metadata={'source': 'https://en.wikipedia.org/wiki/Mersin/', 'title': 'Mersin/ - Wikipedia', 'language': 'en'}, page_content='\\n\\n\\n\\nMersin/ - Wikipedia\\n\\n\\n\\n\\n\\n\\n\\n\\n\\n\\n\\n\\n\\n\\n\\n\\n\\n\\n\\n\\n\\n\\n\\n\\n\\n\\nJump to content\\n\\n\\n\\n\\n\\n\\n\\nMain menu\\n\\n\\n\\n\\n\\nMain menu\\nmove to sidebar\\nhide\\n\\n\\n\\n\\t\\tNavigation\\n\\t\\n\\n\\nMain pageContentsCurrent eventsRandom articleAbout WikipediaContact us\\n\\n\\n\\n\\n\\n\\t\\tContribute\\n\\t\\n\\n\\nHelpLearn to editCommunity portalRecent changesUpload file\\n\\n\\n\\n\\n\\n\\n\\n\\n\\n\\n\\n\\n\\n\\n\\n\\n\\n\\n\\nSearch\\n\\n\\n\\n\\n\\n\\n\\n\\n\\n\\n\\nSearch\\n\\n\\n\\n\\n\\n\\n\\n\\n\\n\\n\\n\\n\\n\\n\\n\\n\\n\\n\\n\\n\\n\\nAppearance\\n\\n\\n\\n\\n\\n\\n\\n\\n\\n\\n\\n\\n\\n\\n\\n\\nDonate\\n\\nCreate account\\n\\nLog in\\n\\n\\n\\n\\n\\n\\n\\n\\nPersonal tools\\n\\n\\n\\n\\n\\nDonate Create account Log in\\n\\n\\n\\n\\n\\n\\t\\tPages for logged out editors learn more\\n\\n\\n\\nContributionsTalk\\n\\n\\n\\n\\n\\n\\n\\n\\n\\n\\n\\n\\n\\n\\n\\n\\n\\n\\n\\n\\n\\n\\n\\n\\n\\n\\n\\nMersin/\\n\\n\\n\\nAdd languages\\n\\n\\n\\n\\t\\t\\t\\t\\t\\tPage contents not supported in other languages.\\n\\t\\t\\t\\t\\t\\n\\n\\n\\n\\n\\n\\n\\n\\n\\n\\nArticleTalk\\n\\n\\n\\n\\n\\nEnglish\\n\\n\\n\\n\\n\\n\\n\\n\\n\\n\\n\\n\\n\\n\\n\\n\\n\\n\\n\\n\\n\\n\\n\\n\\nTools\\n\\n\\n\\n\\n\\nTools\\nmove to sidebar\\nhide\\n\\n\\n\\n\\t\\tActions\\n\\t\\n\\n\\n\\n\\n\\n\\n\\n\\t\\tGeneral\\n\\t\\n\\n\\nWhat links hereUpload fileSpecial pagesPrintable versionPage informationGet shortened URLDownload QR code\\n\\n\\n\\n\\n\\n\\t\\tIn other projects\\n\\t\\n\\n\\n\\n\\n\\n\\n\\n\\n\\n\\n\\n\\n\\n\\n\\n\\n\\n\\n\\n\\n\\n\\n\\nAppearance\\nmove to sidebar\\nhide\\n\\n\\n\\n\\n\\n\\n\\n\\n\\n\\nFrom Wikipedia, the free encyclopedia\\n\\n\\n\\n\\nDid you mean: Mersin? Look for Mersin/ on one of Wikipedia\\'s sister projects:\\n\\n\\n\\n\\nWiktionary (dictionary)\\n\\n\\n\\nWikibooks (textbooks)\\n\\n\\n\\nWikiquote (quotations)\\n\\n\\n\\nWikisource (library)\\n\\n\\n\\nWikiversity (learning resources)\\n\\n\\n\\nCommons (media)\\n\\n\\n\\nWikivoyage (travel guide)\\n\\n\\n\\nWikinews (news source)\\n\\n\\n\\nWikidata (linked database)\\n\\n\\n\\nWikispecies (species directory)\\n\\n\\n\\nWikipedia does not have an article with this exact name. Please search for Mersin/ in Wikipedia to check for alternative titles or spellings.\\nYou need to log in or create an account and be autoconfirmed to create new articles. Alternatively, you can use the article wizard to submit a draft for review, or request a new article.\\nSearch for \"Mersin/\" in existing articles.\\nLook for pages within Wikipedia that link to this title.\\n\\n\\nOther reasons this message may be displayed:\\n\\nIf a page was recently created here, it may not be visible yet because of a delay in updating the database; wait a few minutes or try the purge function.\\nTitles on Wikipedia are case sensitive except for the first character; please check alternative capitalizations and consider adding a redirect here to the correct title.\\nIf the page has been deleted, check the deletion log, and see Why was the page I created deleted?\\n\\n\\n\\nRetrieved from \"https://en.wikipedia.org/wiki/Mersin/\"\\n\\n\\n\\n\\n\\n\\n\\n\\n\\nPrivacy policy\\nAbout Wikipedia\\nDisclaimers\\nContact Wikipedia\\nCode of Conduct\\nDevelopers\\nStatistics\\nCookie statement\\nMobile view\\n\\n\\n\\n\\n\\n\\n\\n\\n\\n\\n\\n\\n\\n')]]"
      ]
     },
     "execution_count": 53,
     "metadata": {},
     "output_type": "execute_result"
    }
   ],
   "source": [
    "docs"
   ]
  },
  {
   "cell_type": "code",
   "execution_count": 54,
   "id": "cff2232d-70d3-43c0-b64e-5d1080e58018",
   "metadata": {
    "scrolled": true
   },
   "outputs": [
    {
     "data": {
      "text/plain": [
       "[Document(metadata={'source': 'https://en.wikipedia.org/wiki/Istanbul/', 'title': 'Istanbul/ - Wikipedia', 'language': 'en'}, page_content='\\n\\n\\n\\nIstanbul/ - Wikipedia\\n\\n\\n\\n\\n\\n\\n\\n\\n\\n\\n\\n\\n\\n\\n\\n\\n\\n\\n\\n\\n\\n\\n\\n\\n\\n\\nJump to content\\n\\n\\n\\n\\n\\n\\n\\nMain menu\\n\\n\\n\\n\\n\\nMain menu\\nmove to sidebar\\nhide\\n\\n\\n\\n\\t\\tNavigation\\n\\t\\n\\n\\nMain pageContentsCurrent eventsRandom articleAbout WikipediaContact us\\n\\n\\n\\n\\n\\n\\t\\tContribute\\n\\t\\n\\n\\nHelpLearn to editCommunity portalRecent changesUpload file\\n\\n\\n\\n\\n\\n\\n\\n\\n\\n\\n\\n\\n\\n\\n\\n\\n\\n\\n\\nSearch\\n\\n\\n\\n\\n\\n\\n\\n\\n\\n\\n\\nSearch\\n\\n\\n\\n\\n\\n\\n\\n\\n\\n\\n\\n\\n\\n\\n\\n\\n\\n\\n\\n\\n\\n\\nAppearance\\n\\n\\n\\n\\n\\n\\n\\n\\n\\n\\n\\n\\n\\n\\n\\n\\nDonate\\n\\nCreate account\\n\\nLog in\\n\\n\\n\\n\\n\\n\\n\\n\\nPersonal tools\\n\\n\\n\\n\\n\\nDonate Create account Log in\\n\\n\\n\\n\\n\\n\\t\\tPages for logged out editors learn more\\n\\n\\n\\nContributionsTalk\\n\\n\\n\\n\\n\\n\\n\\n\\n\\n\\n\\n\\n\\n\\n\\n\\n\\n\\n\\n\\n\\n\\n\\n\\n\\n\\n\\nIstanbul/\\n\\n\\n\\nAdd languages\\n\\n\\n\\n\\t\\t\\t\\t\\t\\tPage contents not supported in other languages.\\n\\t\\t\\t\\t\\t\\n\\n\\n\\n\\n\\n\\n\\n\\n\\n\\nArticleTalk\\n\\n\\n\\n\\n\\nEnglish\\n\\n\\n\\n\\n\\n\\n\\n\\n\\n\\n\\n\\n\\n\\n\\n\\n\\n\\n\\n\\n\\n\\n\\n\\nTools\\n\\n\\n\\n\\n\\nTools\\nmove to sidebar\\nhide\\n\\n\\n\\n\\t\\tActions\\n\\t\\n\\n\\n\\n\\n\\n\\n\\n\\t\\tGeneral\\n\\t\\n\\n\\nWhat links hereUpload fileSpecial pagesPrintable versionPage informationGet shortened URLDownload QR code\\n\\n\\n\\n\\n\\n\\t\\tIn other projects\\n\\t\\n\\n\\n\\n\\n\\n\\n\\n\\n\\n\\n\\n\\n\\n\\n\\n\\n\\n\\n\\n\\n\\n\\n\\nAppearance\\nmove to sidebar\\nhide\\n\\n\\n\\n\\n\\n\\n\\n\\n\\n\\nFrom Wikipedia, the free encyclopedia\\n\\n\\n\\n\\nDid you mean: Istanbul? Look for Istanbul/ on one of Wikipedia\\'s sister projects:\\n\\n\\n\\n\\nWiktionary (dictionary)\\n\\n\\n\\nWikibooks (textbooks)\\n\\n\\n\\nWikiquote (quotations)\\n\\n\\n\\nWikisource (library)\\n\\n\\n\\nWikiversity (learning resources)\\n\\n\\n\\nCommons (media)\\n\\n\\n\\nWikivoyage (travel guide)\\n\\n\\n\\nWikinews (news source)\\n\\n\\n\\nWikidata (linked database)\\n\\n\\n\\nWikispecies (species directory)\\n\\n\\n\\nWikipedia does not have an article with this exact name. Please search for Istanbul/ in Wikipedia to check for alternative titles or spellings.\\nYou need to log in or create an account and be autoconfirmed to create new articles. Alternatively, you can use the article wizard to submit a draft for review, or request a new article.\\nSearch for \"Istanbul/\" in existing articles.\\nLook for pages within Wikipedia that link to this title.\\n\\n\\nOther reasons this message may be displayed:\\n\\nIf a page was recently created here, it may not be visible yet because of a delay in updating the database; wait a few minutes or try the purge function.\\nTitles on Wikipedia are case sensitive except for the first character; please check alternative capitalizations and consider adding a redirect here to the correct title.\\nIf the page has been deleted, check the deletion log, and see Why was the page I created deleted?\\n\\n\\n\\nRetrieved from \"https://en.wikipedia.org/wiki/Istanbul/\"\\n\\n\\n\\n\\n\\n\\n\\n\\n\\nPrivacy policy\\nAbout Wikipedia\\nDisclaimers\\nContact Wikipedia\\nCode of Conduct\\nDevelopers\\nStatistics\\nCookie statement\\nMobile view\\n\\n\\n\\n\\n\\n\\n\\n\\n\\n\\n\\n\\n\\n'),\n",
       " Document(metadata={'source': 'https://en.wikipedia.org/wiki/Ankara/', 'title': 'Ankara/ - Wikipedia', 'language': 'en'}, page_content='\\n\\n\\n\\nAnkara/ - Wikipedia\\n\\n\\n\\n\\n\\n\\n\\n\\n\\n\\n\\n\\n\\n\\n\\n\\n\\n\\n\\n\\n\\n\\n\\n\\n\\n\\nJump to content\\n\\n\\n\\n\\n\\n\\n\\nMain menu\\n\\n\\n\\n\\n\\nMain menu\\nmove to sidebar\\nhide\\n\\n\\n\\n\\t\\tNavigation\\n\\t\\n\\n\\nMain pageContentsCurrent eventsRandom articleAbout WikipediaContact us\\n\\n\\n\\n\\n\\n\\t\\tContribute\\n\\t\\n\\n\\nHelpLearn to editCommunity portalRecent changesUpload file\\n\\n\\n\\n\\n\\n\\n\\n\\n\\n\\n\\n\\n\\n\\n\\n\\n\\n\\n\\nSearch\\n\\n\\n\\n\\n\\n\\n\\n\\n\\n\\n\\nSearch\\n\\n\\n\\n\\n\\n\\n\\n\\n\\n\\n\\n\\n\\n\\n\\n\\n\\n\\n\\n\\n\\n\\nAppearance\\n\\n\\n\\n\\n\\n\\n\\n\\n\\n\\n\\n\\n\\n\\n\\n\\nDonate\\n\\nCreate account\\n\\nLog in\\n\\n\\n\\n\\n\\n\\n\\n\\nPersonal tools\\n\\n\\n\\n\\n\\nDonate Create account Log in\\n\\n\\n\\n\\n\\n\\t\\tPages for logged out editors learn more\\n\\n\\n\\nContributionsTalk\\n\\n\\n\\n\\n\\n\\n\\n\\n\\n\\n\\n\\n\\n\\n\\n\\n\\n\\n\\n\\n\\n\\n\\n\\n\\n\\n\\nAnkara/\\n\\n\\n\\nAdd languages\\n\\n\\n\\n\\t\\t\\t\\t\\t\\tPage contents not supported in other languages.\\n\\t\\t\\t\\t\\t\\n\\n\\n\\n\\n\\n\\n\\n\\n\\n\\nArticleTalk\\n\\n\\n\\n\\n\\nEnglish\\n\\n\\n\\n\\n\\n\\n\\n\\n\\n\\n\\n\\n\\n\\n\\n\\n\\n\\n\\n\\n\\n\\n\\n\\nTools\\n\\n\\n\\n\\n\\nTools\\nmove to sidebar\\nhide\\n\\n\\n\\n\\t\\tActions\\n\\t\\n\\n\\n\\n\\n\\n\\n\\n\\t\\tGeneral\\n\\t\\n\\n\\nWhat links hereUpload fileSpecial pagesPrintable versionPage informationGet shortened URLDownload QR code\\n\\n\\n\\n\\n\\n\\t\\tIn other projects\\n\\t\\n\\n\\n\\n\\n\\n\\n\\n\\n\\n\\n\\n\\n\\n\\n\\n\\n\\n\\n\\n\\n\\n\\n\\nAppearance\\nmove to sidebar\\nhide\\n\\n\\n\\n\\n\\n\\n\\n\\n\\n\\nFrom Wikipedia, the free encyclopedia\\n\\n\\n\\n\\nDid you mean: Ankara? Look for Ankara/ on one of Wikipedia\\'s sister projects:\\n\\n\\n\\n\\nWiktionary (dictionary)\\n\\n\\n\\nWikibooks (textbooks)\\n\\n\\n\\nWikiquote (quotations)\\n\\n\\n\\nWikisource (library)\\n\\n\\n\\nWikiversity (learning resources)\\n\\n\\n\\nCommons (media)\\n\\n\\n\\nWikivoyage (travel guide)\\n\\n\\n\\nWikinews (news source)\\n\\n\\n\\nWikidata (linked database)\\n\\n\\n\\nWikispecies (species directory)\\n\\n\\n\\nWikipedia does not have an article with this exact name. Please search for Ankara/ in Wikipedia to check for alternative titles or spellings.\\nYou need to log in or create an account and be autoconfirmed to create new articles. Alternatively, you can use the article wizard to submit a draft for review, or request a new article.\\nSearch for \"Ankara/\" in existing articles.\\nLook for pages within Wikipedia that link to this title.\\n\\n\\nOther reasons this message may be displayed:\\n\\nIf a page was recently created here, it may not be visible yet because of a delay in updating the database; wait a few minutes or try the purge function.\\nTitles on Wikipedia are case sensitive except for the first character; please check alternative capitalizations and consider adding a redirect here to the correct title.\\nIf the page has been deleted, check the deletion log, and see Why was the page I created deleted?\\n\\n\\n\\nRetrieved from \"https://en.wikipedia.org/wiki/Ankara/\"\\n\\n\\n\\n\\n\\n\\n\\n\\n\\nPrivacy policy\\nAbout Wikipedia\\nDisclaimers\\nContact Wikipedia\\nCode of Conduct\\nDevelopers\\nStatistics\\nCookie statement\\nMobile view\\n\\n\\n\\n\\n\\n\\n\\n\\n\\n\\n\\n\\n\\n'),\n",
       " Document(metadata={'source': 'https://en.wikipedia.org/wiki/Kayseri/', 'title': 'Kayseri/ - Wikipedia', 'language': 'en'}, page_content='\\n\\n\\n\\nKayseri/ - Wikipedia\\n\\n\\n\\n\\n\\n\\n\\n\\n\\n\\n\\n\\n\\n\\n\\n\\n\\n\\n\\n\\n\\n\\n\\n\\n\\n\\nJump to content\\n\\n\\n\\n\\n\\n\\n\\nMain menu\\n\\n\\n\\n\\n\\nMain menu\\nmove to sidebar\\nhide\\n\\n\\n\\n\\t\\tNavigation\\n\\t\\n\\n\\nMain pageContentsCurrent eventsRandom articleAbout WikipediaContact us\\n\\n\\n\\n\\n\\n\\t\\tContribute\\n\\t\\n\\n\\nHelpLearn to editCommunity portalRecent changesUpload file\\n\\n\\n\\n\\n\\n\\n\\n\\n\\n\\n\\n\\n\\n\\n\\n\\n\\n\\n\\nSearch\\n\\n\\n\\n\\n\\n\\n\\n\\n\\n\\n\\nSearch\\n\\n\\n\\n\\n\\n\\n\\n\\n\\n\\n\\n\\n\\n\\n\\n\\n\\n\\n\\n\\n\\n\\nAppearance\\n\\n\\n\\n\\n\\n\\n\\n\\n\\n\\n\\n\\n\\n\\n\\n\\nDonate\\n\\nCreate account\\n\\nLog in\\n\\n\\n\\n\\n\\n\\n\\n\\nPersonal tools\\n\\n\\n\\n\\n\\nDonate Create account Log in\\n\\n\\n\\n\\n\\n\\t\\tPages for logged out editors learn more\\n\\n\\n\\nContributionsTalk\\n\\n\\n\\n\\n\\n\\n\\n\\n\\n\\n\\n\\n\\n\\n\\n\\n\\n\\n\\n\\n\\n\\n\\n\\n\\n\\n\\nKayseri/\\n\\n\\n\\nAdd languages\\n\\n\\n\\n\\t\\t\\t\\t\\t\\tPage contents not supported in other languages.\\n\\t\\t\\t\\t\\t\\n\\n\\n\\n\\n\\n\\n\\n\\n\\n\\nArticleTalk\\n\\n\\n\\n\\n\\nEnglish\\n\\n\\n\\n\\n\\n\\n\\n\\n\\n\\n\\n\\n\\n\\n\\n\\n\\n\\n\\n\\n\\n\\n\\n\\nTools\\n\\n\\n\\n\\n\\nTools\\nmove to sidebar\\nhide\\n\\n\\n\\n\\t\\tActions\\n\\t\\n\\n\\n\\n\\n\\n\\n\\n\\t\\tGeneral\\n\\t\\n\\n\\nWhat links hereUpload fileSpecial pagesPrintable versionPage informationGet shortened URLDownload QR code\\n\\n\\n\\n\\n\\n\\t\\tIn other projects\\n\\t\\n\\n\\n\\n\\n\\n\\n\\n\\n\\n\\n\\n\\n\\n\\n\\n\\n\\n\\n\\n\\n\\n\\n\\nAppearance\\nmove to sidebar\\nhide\\n\\n\\n\\n\\n\\n\\n\\n\\n\\n\\nFrom Wikipedia, the free encyclopedia\\n\\n\\n\\n\\nDid you mean: Kayseri? Look for Kayseri/ on one of Wikipedia\\'s sister projects:\\n\\n\\n\\n\\nWiktionary (dictionary)\\n\\n\\n\\nWikibooks (textbooks)\\n\\n\\n\\nWikiquote (quotations)\\n\\n\\n\\nWikisource (library)\\n\\n\\n\\nWikiversity (learning resources)\\n\\n\\n\\nCommons (media)\\n\\n\\n\\nWikivoyage (travel guide)\\n\\n\\n\\nWikinews (news source)\\n\\n\\n\\nWikidata (linked database)\\n\\n\\n\\nWikispecies (species directory)\\n\\n\\n\\nWikipedia does not have an article with this exact name. Please search for Kayseri/ in Wikipedia to check for alternative titles or spellings.\\nYou need to log in or create an account and be autoconfirmed to create new articles. Alternatively, you can use the article wizard to submit a draft for review, or request a new article.\\nSearch for \"Kayseri/\" in existing articles.\\nLook for pages within Wikipedia that link to this title.\\n\\n\\nOther reasons this message may be displayed:\\n\\nIf a page was recently created here, it may not be visible yet because of a delay in updating the database; wait a few minutes or try the purge function.\\nTitles on Wikipedia are case sensitive except for the first character; please check alternative capitalizations and consider adding a redirect here to the correct title.\\nIf the page has been deleted, check the deletion log, and see Why was the page I created deleted?\\n\\n\\n\\nRetrieved from \"https://en.wikipedia.org/wiki/Kayseri/\"\\n\\n\\n\\n\\n\\n\\n\\n\\n\\nPrivacy policy\\nAbout Wikipedia\\nDisclaimers\\nContact Wikipedia\\nCode of Conduct\\nDevelopers\\nStatistics\\nCookie statement\\nMobile view\\n\\n\\n\\n\\n\\n\\n\\n\\n\\n\\n\\n\\n\\n'),\n",
       " Document(metadata={'source': 'https://en.wikipedia.org/wiki/Bursa/', 'title': 'Bursa/ - Wikipedia', 'language': 'en'}, page_content='\\n\\n\\n\\nBursa/ - Wikipedia\\n\\n\\n\\n\\n\\n\\n\\n\\n\\n\\n\\n\\n\\n\\n\\n\\n\\n\\n\\n\\n\\n\\n\\n\\n\\n\\nJump to content\\n\\n\\n\\n\\n\\n\\n\\nMain menu\\n\\n\\n\\n\\n\\nMain menu\\nmove to sidebar\\nhide\\n\\n\\n\\n\\t\\tNavigation\\n\\t\\n\\n\\nMain pageContentsCurrent eventsRandom articleAbout WikipediaContact us\\n\\n\\n\\n\\n\\n\\t\\tContribute\\n\\t\\n\\n\\nHelpLearn to editCommunity portalRecent changesUpload file\\n\\n\\n\\n\\n\\n\\n\\n\\n\\n\\n\\n\\n\\n\\n\\n\\n\\n\\n\\nSearch\\n\\n\\n\\n\\n\\n\\n\\n\\n\\n\\n\\nSearch\\n\\n\\n\\n\\n\\n\\n\\n\\n\\n\\n\\n\\n\\n\\n\\n\\n\\n\\n\\n\\n\\n\\nAppearance\\n\\n\\n\\n\\n\\n\\n\\n\\n\\n\\n\\n\\n\\n\\n\\n\\nDonate\\n\\nCreate account\\n\\nLog in\\n\\n\\n\\n\\n\\n\\n\\n\\nPersonal tools\\n\\n\\n\\n\\n\\nDonate Create account Log in\\n\\n\\n\\n\\n\\n\\t\\tPages for logged out editors learn more\\n\\n\\n\\nContributionsTalk\\n\\n\\n\\n\\n\\n\\n\\n\\n\\n\\n\\n\\n\\n\\n\\n\\n\\n\\n\\n\\n\\n\\n\\n\\n\\n\\n\\nBursa/\\n\\n\\n\\nAdd languages\\n\\n\\n\\n\\t\\t\\t\\t\\t\\tPage contents not supported in other languages.\\n\\t\\t\\t\\t\\t\\n\\n\\n\\n\\n\\n\\n\\n\\n\\n\\nArticleTalk\\n\\n\\n\\n\\n\\nEnglish\\n\\n\\n\\n\\n\\n\\n\\n\\n\\n\\n\\n\\n\\n\\n\\n\\n\\n\\n\\n\\n\\n\\n\\n\\nTools\\n\\n\\n\\n\\n\\nTools\\nmove to sidebar\\nhide\\n\\n\\n\\n\\t\\tActions\\n\\t\\n\\n\\n\\n\\n\\n\\n\\n\\t\\tGeneral\\n\\t\\n\\n\\nWhat links hereUpload fileSpecial pagesPrintable versionPage informationGet shortened URLDownload QR code\\n\\n\\n\\n\\n\\n\\t\\tIn other projects\\n\\t\\n\\n\\n\\n\\n\\n\\n\\n\\n\\n\\n\\n\\n\\n\\n\\n\\n\\n\\n\\n\\n\\n\\n\\nAppearance\\nmove to sidebar\\nhide\\n\\n\\n\\n\\n\\n\\n\\n\\n\\n\\nFrom Wikipedia, the free encyclopedia\\n\\n\\n\\n\\nDid you mean: Bursa? Look for Bursa/ on one of Wikipedia\\'s sister projects:\\n\\n\\n\\n\\nWiktionary (dictionary)\\n\\n\\n\\nWikibooks (textbooks)\\n\\n\\n\\nWikiquote (quotations)\\n\\n\\n\\nWikisource (library)\\n\\n\\n\\nWikiversity (learning resources)\\n\\n\\n\\nCommons (media)\\n\\n\\n\\nWikivoyage (travel guide)\\n\\n\\n\\nWikinews (news source)\\n\\n\\n\\nWikidata (linked database)\\n\\n\\n\\nWikispecies (species directory)\\n\\n\\n\\nWikipedia does not have an article with this exact name. Please search for Bursa/ in Wikipedia to check for alternative titles or spellings.\\nYou need to log in or create an account and be autoconfirmed to create new articles. Alternatively, you can use the article wizard to submit a draft for review, or request a new article.\\nSearch for \"Bursa/\" in existing articles.\\nLook for pages within Wikipedia that link to this title.\\n\\n\\nOther reasons this message may be displayed:\\n\\nIf a page was recently created here, it may not be visible yet because of a delay in updating the database; wait a few minutes or try the purge function.\\nTitles on Wikipedia are case sensitive except for the first character; please check alternative capitalizations and consider adding a redirect here to the correct title.\\nIf the page has been deleted, check the deletion log, and see Why was the page I created deleted?\\n\\n\\n\\nRetrieved from \"https://en.wikipedia.org/wiki/Bursa/\"\\n\\n\\n\\n\\n\\n\\n\\n\\n\\nPrivacy policy\\nAbout Wikipedia\\nDisclaimers\\nContact Wikipedia\\nCode of Conduct\\nDevelopers\\nStatistics\\nCookie statement\\nMobile view\\n\\n\\n\\n\\n\\n\\n\\n\\n\\n\\n\\n\\n\\n'),\n",
       " Document(metadata={'source': 'https://en.wikipedia.org/wiki/Sivas/', 'title': 'Sivas/ - Wikipedia', 'language': 'en'}, page_content='\\n\\n\\n\\nSivas/ - Wikipedia\\n\\n\\n\\n\\n\\n\\n\\n\\n\\n\\n\\n\\n\\n\\n\\n\\n\\n\\n\\n\\n\\n\\n\\n\\n\\n\\nJump to content\\n\\n\\n\\n\\n\\n\\n\\nMain menu\\n\\n\\n\\n\\n\\nMain menu\\nmove to sidebar\\nhide\\n\\n\\n\\n\\t\\tNavigation\\n\\t\\n\\n\\nMain pageContentsCurrent eventsRandom articleAbout WikipediaContact us\\n\\n\\n\\n\\n\\n\\t\\tContribute\\n\\t\\n\\n\\nHelpLearn to editCommunity portalRecent changesUpload file\\n\\n\\n\\n\\n\\n\\n\\n\\n\\n\\n\\n\\n\\n\\n\\n\\n\\n\\n\\nSearch\\n\\n\\n\\n\\n\\n\\n\\n\\n\\n\\n\\nSearch\\n\\n\\n\\n\\n\\n\\n\\n\\n\\n\\n\\n\\n\\n\\n\\n\\n\\n\\n\\n\\n\\n\\nAppearance\\n\\n\\n\\n\\n\\n\\n\\n\\n\\n\\n\\n\\n\\n\\n\\n\\nDonate\\n\\nCreate account\\n\\nLog in\\n\\n\\n\\n\\n\\n\\n\\n\\nPersonal tools\\n\\n\\n\\n\\n\\nDonate Create account Log in\\n\\n\\n\\n\\n\\n\\t\\tPages for logged out editors learn more\\n\\n\\n\\nContributionsTalk\\n\\n\\n\\n\\n\\n\\n\\n\\n\\n\\n\\n\\n\\n\\n\\n\\n\\n\\n\\n\\n\\n\\n\\n\\n\\n\\n\\nSivas/\\n\\n\\n\\nAdd languages\\n\\n\\n\\n\\t\\t\\t\\t\\t\\tPage contents not supported in other languages.\\n\\t\\t\\t\\t\\t\\n\\n\\n\\n\\n\\n\\n\\n\\n\\n\\nArticleTalk\\n\\n\\n\\n\\n\\nEnglish\\n\\n\\n\\n\\n\\n\\n\\n\\n\\n\\n\\n\\n\\n\\n\\n\\n\\n\\n\\n\\n\\n\\n\\n\\nTools\\n\\n\\n\\n\\n\\nTools\\nmove to sidebar\\nhide\\n\\n\\n\\n\\t\\tActions\\n\\t\\n\\n\\n\\n\\n\\n\\n\\n\\t\\tGeneral\\n\\t\\n\\n\\nWhat links hereUpload fileSpecial pagesPrintable versionPage informationGet shortened URLDownload QR code\\n\\n\\n\\n\\n\\n\\t\\tIn other projects\\n\\t\\n\\n\\n\\n\\n\\n\\n\\n\\n\\n\\n\\n\\n\\n\\n\\n\\n\\n\\n\\n\\n\\n\\n\\nAppearance\\nmove to sidebar\\nhide\\n\\n\\n\\n\\n\\n\\n\\n\\n\\n\\nFrom Wikipedia, the free encyclopedia\\n\\n\\n\\n\\nDid you mean: Sivas? Look for Sivas/ on one of Wikipedia\\'s sister projects:\\n\\n\\n\\n\\nWiktionary (dictionary)\\n\\n\\n\\nWikibooks (textbooks)\\n\\n\\n\\nWikiquote (quotations)\\n\\n\\n\\nWikisource (library)\\n\\n\\n\\nWikiversity (learning resources)\\n\\n\\n\\nCommons (media)\\n\\n\\n\\nWikivoyage (travel guide)\\n\\n\\n\\nWikinews (news source)\\n\\n\\n\\nWikidata (linked database)\\n\\n\\n\\nWikispecies (species directory)\\n\\n\\n\\nWikipedia does not have an article with this exact name. Please search for Sivas/ in Wikipedia to check for alternative titles or spellings.\\nYou need to log in or create an account and be autoconfirmed to create new articles. Alternatively, you can use the article wizard to submit a draft for review, or request a new article.\\nSearch for \"Sivas/\" in existing articles.\\nLook for pages within Wikipedia that link to this title.\\n\\n\\nOther reasons this message may be displayed:\\n\\nIf a page was recently created here, it may not be visible yet because of a delay in updating the database; wait a few minutes or try the purge function.\\nTitles on Wikipedia are case sensitive except for the first character; please check alternative capitalizations and consider adding a redirect here to the correct title.\\nIf the page has been deleted, check the deletion log, and see Why was the page I created deleted?\\n\\n\\n\\nRetrieved from \"https://en.wikipedia.org/wiki/Sivas/\"\\n\\n\\n\\n\\n\\n\\n\\n\\n\\nPrivacy policy\\nAbout Wikipedia\\nDisclaimers\\nContact Wikipedia\\nCode of Conduct\\nDevelopers\\nStatistics\\nCookie statement\\nMobile view\\n\\n\\n\\n\\n\\n\\n\\n\\n\\n\\n\\n\\n\\n'),\n",
       " Document(metadata={'source': 'https://en.wikipedia.org/wiki/Mersin/', 'title': 'Mersin/ - Wikipedia', 'language': 'en'}, page_content='\\n\\n\\n\\nMersin/ - Wikipedia\\n\\n\\n\\n\\n\\n\\n\\n\\n\\n\\n\\n\\n\\n\\n\\n\\n\\n\\n\\n\\n\\n\\n\\n\\n\\n\\nJump to content\\n\\n\\n\\n\\n\\n\\n\\nMain menu\\n\\n\\n\\n\\n\\nMain menu\\nmove to sidebar\\nhide\\n\\n\\n\\n\\t\\tNavigation\\n\\t\\n\\n\\nMain pageContentsCurrent eventsRandom articleAbout WikipediaContact us\\n\\n\\n\\n\\n\\n\\t\\tContribute\\n\\t\\n\\n\\nHelpLearn to editCommunity portalRecent changesUpload file\\n\\n\\n\\n\\n\\n\\n\\n\\n\\n\\n\\n\\n\\n\\n\\n\\n\\n\\n\\nSearch\\n\\n\\n\\n\\n\\n\\n\\n\\n\\n\\n\\nSearch\\n\\n\\n\\n\\n\\n\\n\\n\\n\\n\\n\\n\\n\\n\\n\\n\\n\\n\\n\\n\\n\\n\\nAppearance\\n\\n\\n\\n\\n\\n\\n\\n\\n\\n\\n\\n\\n\\n\\n\\n\\nDonate\\n\\nCreate account\\n\\nLog in\\n\\n\\n\\n\\n\\n\\n\\n\\nPersonal tools\\n\\n\\n\\n\\n\\nDonate Create account Log in\\n\\n\\n\\n\\n\\n\\t\\tPages for logged out editors learn more\\n\\n\\n\\nContributionsTalk\\n\\n\\n\\n\\n\\n\\n\\n\\n\\n\\n\\n\\n\\n\\n\\n\\n\\n\\n\\n\\n\\n\\n\\n\\n\\n\\n\\nMersin/\\n\\n\\n\\nAdd languages\\n\\n\\n\\n\\t\\t\\t\\t\\t\\tPage contents not supported in other languages.\\n\\t\\t\\t\\t\\t\\n\\n\\n\\n\\n\\n\\n\\n\\n\\n\\nArticleTalk\\n\\n\\n\\n\\n\\nEnglish\\n\\n\\n\\n\\n\\n\\n\\n\\n\\n\\n\\n\\n\\n\\n\\n\\n\\n\\n\\n\\n\\n\\n\\n\\nTools\\n\\n\\n\\n\\n\\nTools\\nmove to sidebar\\nhide\\n\\n\\n\\n\\t\\tActions\\n\\t\\n\\n\\n\\n\\n\\n\\n\\n\\t\\tGeneral\\n\\t\\n\\n\\nWhat links hereUpload fileSpecial pagesPrintable versionPage informationGet shortened URLDownload QR code\\n\\n\\n\\n\\n\\n\\t\\tIn other projects\\n\\t\\n\\n\\n\\n\\n\\n\\n\\n\\n\\n\\n\\n\\n\\n\\n\\n\\n\\n\\n\\n\\n\\n\\n\\nAppearance\\nmove to sidebar\\nhide\\n\\n\\n\\n\\n\\n\\n\\n\\n\\n\\nFrom Wikipedia, the free encyclopedia\\n\\n\\n\\n\\nDid you mean: Mersin? Look for Mersin/ on one of Wikipedia\\'s sister projects:\\n\\n\\n\\n\\nWiktionary (dictionary)\\n\\n\\n\\nWikibooks (textbooks)\\n\\n\\n\\nWikiquote (quotations)\\n\\n\\n\\nWikisource (library)\\n\\n\\n\\nWikiversity (learning resources)\\n\\n\\n\\nCommons (media)\\n\\n\\n\\nWikivoyage (travel guide)\\n\\n\\n\\nWikinews (news source)\\n\\n\\n\\nWikidata (linked database)\\n\\n\\n\\nWikispecies (species directory)\\n\\n\\n\\nWikipedia does not have an article with this exact name. Please search for Mersin/ in Wikipedia to check for alternative titles or spellings.\\nYou need to log in or create an account and be autoconfirmed to create new articles. Alternatively, you can use the article wizard to submit a draft for review, or request a new article.\\nSearch for \"Mersin/\" in existing articles.\\nLook for pages within Wikipedia that link to this title.\\n\\n\\nOther reasons this message may be displayed:\\n\\nIf a page was recently created here, it may not be visible yet because of a delay in updating the database; wait a few minutes or try the purge function.\\nTitles on Wikipedia are case sensitive except for the first character; please check alternative capitalizations and consider adding a redirect here to the correct title.\\nIf the page has been deleted, check the deletion log, and see Why was the page I created deleted?\\n\\n\\n\\nRetrieved from \"https://en.wikipedia.org/wiki/Mersin/\"\\n\\n\\n\\n\\n\\n\\n\\n\\n\\nPrivacy policy\\nAbout Wikipedia\\nDisclaimers\\nContact Wikipedia\\nCode of Conduct\\nDevelopers\\nStatistics\\nCookie statement\\nMobile view\\n\\n\\n\\n\\n\\n\\n\\n\\n\\n\\n\\n\\n\\n')]"
      ]
     },
     "execution_count": 54,
     "metadata": {},
     "output_type": "execute_result"
    }
   ],
   "source": [
    "docs_list"
   ]
  },
  {
   "cell_type": "markdown",
   "id": "015d55ae-c270-473b-a3cb-2b2976f52555",
   "metadata": {},
   "source": [
    "### Split documents into chunks"
   ]
  },
  {
   "cell_type": "code",
   "execution_count": 55,
   "id": "7216ad33-ae72-45f3-b113-f8528b26cabc",
   "metadata": {},
   "outputs": [],
   "source": [
    "from langchain_community.llms import Ollama\n",
    "llm = Ollama(model=\"llama3:latest\")"
   ]
  },
  {
   "cell_type": "code",
   "execution_count": 56,
   "id": "a7c7c32f-a538-4d61-b12e-747ddb79221f",
   "metadata": {},
   "outputs": [],
   "source": [
    "from langchain_ollama import OllamaEmbeddings\n",
    "embeddings = OllamaEmbeddings(model=\"llama3\")"
   ]
  },
  {
   "cell_type": "code",
   "execution_count": 57,
   "id": "72caab7c-4793-4edb-8f9f-1b6af4e2335b",
   "metadata": {},
   "outputs": [],
   "source": [
    "from langchain_community.vectorstores import SKLearnVectorStore\n",
    "\"\"\" or you can use\n",
    "from langchain_community.vectorstores import FAISS\n",
    "vectorstoredb=FAISS.from_documents(documents, embeddings)\n",
    "\"\"\"\n",
    "vectorstore = SKLearnVectorStore.from_documents(\n",
    "    documents=docs_list,\n",
    "    embedding=embeddings,\n",
    ")\n",
    "retriever = vectorstore.as_retriever(k=3)"
   ]
  },
  {
   "cell_type": "code",
   "execution_count": 58,
   "id": "0e7ec3d2-e554-4d98-9520-a787b2e93ed0",
   "metadata": {},
   "outputs": [
    {
     "data": {
      "text/plain": [
       "<langchain_community.vectorstores.sklearn.SKLearnVectorStore at 0x13d9f85b3d0>"
      ]
     },
     "execution_count": 58,
     "metadata": {},
     "output_type": "execute_result"
    }
   ],
   "source": [
    "vectorstore"
   ]
  },
  {
   "cell_type": "code",
   "execution_count": 59,
   "id": "fe0805e6-f223-44c7-b116-718aa82c9316",
   "metadata": {},
   "outputs": [],
   "source": [
    "from langchain_ollama import ChatOllama\n",
    "from langchain.prompts import PromptTemplate\n",
    "from langchain_core.output_parsers import StrOutputParser\n",
    "# Define the prompt template for the LLM\n",
    "prompt = PromptTemplate(\n",
    "    template=\"\"\"You are an assistant for question-answering tasks.\n",
    "    Use the following documents to answer the question.\n",
    "    If you don't know the answer, just say that you don't know.\n",
    "    Use three sentences maximum and keep the answer concise:\n",
    "    Question: {question}\n",
    "    Documents: {documents}\n",
    "    Answer:\n",
    "    \"\"\",\n",
    "    input_variables=[\"question\", \"documents\"],\n",
    ")"
   ]
  },
  {
   "cell_type": "code",
   "execution_count": 60,
   "id": "8ff182ed-0b16-408b-9d56-5d418470c429",
   "metadata": {},
   "outputs": [
    {
     "name": "stdout",
     "output_type": "stream",
     "text": [
      "Prompt : input_variables=['question'] input_types={} partial_variables={} messages=[SystemMessagePromptTemplate(prompt=PromptTemplate(input_variables=[], input_types={}, partial_variables={}, template=\"You are an assistant for question-answering tasks. Use the following documents to answer the question. If you don't know the answer, just say that you don't know. Use three sentences maximum and keep the answer concise:\"), additional_kwargs={}), HumanMessagePromptTemplate(prompt=PromptTemplate(input_variables=['question'], input_types={}, partial_variables={}, template='{question}'), additional_kwargs={})]\n"
     ]
    }
   ],
   "source": [
    "from langchain_core.output_parsers import StrOutputParser\n",
    "from langchain_core.prompts import ChatPromptTemplate\n",
    "\n",
    "### Chatprompt Template\n",
    "prompt=ChatPromptTemplate.from_messages(\n",
    "    [\n",
    "        (\"system\",\"You are an assistant for question-answering tasks. Use the following documents to answer the question. If you don't know the answer, just say that you don't know. Use three sentences maximum and keep the answer concise:\"),\n",
    "        (\"user\",\"{question}\"),\n",
    "    ]\n",
    ")\n",
    "print(f\"Prompt : {prompt}\")\n",
    "## chain \n",
    "output_parser=StrOutputParser()\n",
    "chain=prompt|llm|output_parser"
   ]
  },
  {
   "cell_type": "code",
   "execution_count": 61,
   "id": "715a31ad-0ce5-45f1-bc10-7b09e0918b71",
   "metadata": {},
   "outputs": [],
   "source": [
    "def invoke_question(question):\n",
    "    response=chain.invoke({\"question\":question})\n",
    "    print(f\"Prompt : {prompt}\")\n",
    "    print(f\"{Fore.BLUE}{Style.BRIGHT}_.\"*75)\n",
    "    print(Style.RESET_ALL, end=\"\")\n",
    "    print(f\"{Fore.MAGENTA}{Style.BRIGHT}{response}\")\n",
    "    print(Style.RESET_ALL, end=\"\")"
   ]
  },
  {
   "cell_type": "code",
   "execution_count": 62,
   "id": "9d04b0b2-e8a1-48db-8e01-25cfba8d6586",
   "metadata": {},
   "outputs": [
    {
     "name": "stdout",
     "output_type": "stream",
     "text": [
      "Prompt : input_variables=['question'] input_types={} partial_variables={} messages=[SystemMessagePromptTemplate(prompt=PromptTemplate(input_variables=[], input_types={}, partial_variables={}, template=\"You are an assistant for question-answering tasks. Use the following documents to answer the question. If you don't know the answer, just say that you don't know. Use three sentences maximum and keep the answer concise:\"), additional_kwargs={}), HumanMessagePromptTemplate(prompt=PromptTemplate(input_variables=['question'], input_types={}, partial_variables={}, template='{question}'), additional_kwargs={})]\n",
      "\u001b[34m\u001b[1m_.\u001b[34m\u001b[1m_.\u001b[34m\u001b[1m_.\u001b[34m\u001b[1m_.\u001b[34m\u001b[1m_.\u001b[34m\u001b[1m_.\u001b[34m\u001b[1m_.\u001b[34m\u001b[1m_.\u001b[34m\u001b[1m_.\u001b[34m\u001b[1m_.\u001b[34m\u001b[1m_.\u001b[34m\u001b[1m_.\u001b[34m\u001b[1m_.\u001b[34m\u001b[1m_.\u001b[34m\u001b[1m_.\u001b[34m\u001b[1m_.\u001b[34m\u001b[1m_.\u001b[34m\u001b[1m_.\u001b[34m\u001b[1m_.\u001b[34m\u001b[1m_.\u001b[34m\u001b[1m_.\u001b[34m\u001b[1m_.\u001b[34m\u001b[1m_.\u001b[34m\u001b[1m_.\u001b[34m\u001b[1m_.\u001b[34m\u001b[1m_.\u001b[34m\u001b[1m_.\u001b[34m\u001b[1m_.\u001b[34m\u001b[1m_.\u001b[34m\u001b[1m_.\u001b[34m\u001b[1m_.\u001b[34m\u001b[1m_.\u001b[34m\u001b[1m_.\u001b[34m\u001b[1m_.\u001b[34m\u001b[1m_.\u001b[34m\u001b[1m_.\u001b[34m\u001b[1m_.\u001b[34m\u001b[1m_.\u001b[34m\u001b[1m_.\u001b[34m\u001b[1m_.\u001b[34m\u001b[1m_.\u001b[34m\u001b[1m_.\u001b[34m\u001b[1m_.\u001b[34m\u001b[1m_.\u001b[34m\u001b[1m_.\u001b[34m\u001b[1m_.\u001b[34m\u001b[1m_.\u001b[34m\u001b[1m_.\u001b[34m\u001b[1m_.\u001b[34m\u001b[1m_.\u001b[34m\u001b[1m_.\u001b[34m\u001b[1m_.\u001b[34m\u001b[1m_.\u001b[34m\u001b[1m_.\u001b[34m\u001b[1m_.\u001b[34m\u001b[1m_.\u001b[34m\u001b[1m_.\u001b[34m\u001b[1m_.\u001b[34m\u001b[1m_.\u001b[34m\u001b[1m_.\u001b[34m\u001b[1m_.\u001b[34m\u001b[1m_.\u001b[34m\u001b[1m_.\u001b[34m\u001b[1m_.\u001b[34m\u001b[1m_.\u001b[34m\u001b[1m_.\u001b[34m\u001b[1m_.\u001b[34m\u001b[1m_.\u001b[34m\u001b[1m_.\u001b[34m\u001b[1m_.\u001b[34m\u001b[1m_.\u001b[34m\u001b[1m_.\u001b[34m\u001b[1m_.\u001b[34m\u001b[1m_.\u001b[34m\u001b[1m_.\n",
      "\u001b[0m\u001b[35m\u001b[1mIstanbul is a transcontinental city located in Western Turkey, straddling Europe and Asia across the Bosphorus Strait. It is known for its rich history and cultural heritage, with landmarks such as the Hagia Sophia, Topkapi Palace, and the Blue Mosque. Today, Istanbul is a bustling metropolis with over 14 million people, offering a unique blend of East and West cultures.\n",
      "\u001b[0m"
     ]
    }
   ],
   "source": [
    "invoke_question(\"Can you tell me about Istanbul?\")"
   ]
  },
  {
   "cell_type": "code",
   "execution_count": 63,
   "id": "843fcc4d-ebe0-4d99-a5bd-2acc4cdbe6fc",
   "metadata": {},
   "outputs": [
    {
     "name": "stdout",
     "output_type": "stream",
     "text": [
      "Prompt : input_variables=['question'] input_types={} partial_variables={} messages=[SystemMessagePromptTemplate(prompt=PromptTemplate(input_variables=[], input_types={}, partial_variables={}, template=\"You are an assistant for question-answering tasks. Use the following documents to answer the question. If you don't know the answer, just say that you don't know. Use three sentences maximum and keep the answer concise:\"), additional_kwargs={}), HumanMessagePromptTemplate(prompt=PromptTemplate(input_variables=['question'], input_types={}, partial_variables={}, template='{question}'), additional_kwargs={})]\n",
      "\u001b[34m\u001b[1m_.\u001b[34m\u001b[1m_.\u001b[34m\u001b[1m_.\u001b[34m\u001b[1m_.\u001b[34m\u001b[1m_.\u001b[34m\u001b[1m_.\u001b[34m\u001b[1m_.\u001b[34m\u001b[1m_.\u001b[34m\u001b[1m_.\u001b[34m\u001b[1m_.\u001b[34m\u001b[1m_.\u001b[34m\u001b[1m_.\u001b[34m\u001b[1m_.\u001b[34m\u001b[1m_.\u001b[34m\u001b[1m_.\u001b[34m\u001b[1m_.\u001b[34m\u001b[1m_.\u001b[34m\u001b[1m_.\u001b[34m\u001b[1m_.\u001b[34m\u001b[1m_.\u001b[34m\u001b[1m_.\u001b[34m\u001b[1m_.\u001b[34m\u001b[1m_.\u001b[34m\u001b[1m_.\u001b[34m\u001b[1m_.\u001b[34m\u001b[1m_.\u001b[34m\u001b[1m_.\u001b[34m\u001b[1m_.\u001b[34m\u001b[1m_.\u001b[34m\u001b[1m_.\u001b[34m\u001b[1m_.\u001b[34m\u001b[1m_.\u001b[34m\u001b[1m_.\u001b[34m\u001b[1m_.\u001b[34m\u001b[1m_.\u001b[34m\u001b[1m_.\u001b[34m\u001b[1m_.\u001b[34m\u001b[1m_.\u001b[34m\u001b[1m_.\u001b[34m\u001b[1m_.\u001b[34m\u001b[1m_.\u001b[34m\u001b[1m_.\u001b[34m\u001b[1m_.\u001b[34m\u001b[1m_.\u001b[34m\u001b[1m_.\u001b[34m\u001b[1m_.\u001b[34m\u001b[1m_.\u001b[34m\u001b[1m_.\u001b[34m\u001b[1m_.\u001b[34m\u001b[1m_.\u001b[34m\u001b[1m_.\u001b[34m\u001b[1m_.\u001b[34m\u001b[1m_.\u001b[34m\u001b[1m_.\u001b[34m\u001b[1m_.\u001b[34m\u001b[1m_.\u001b[34m\u001b[1m_.\u001b[34m\u001b[1m_.\u001b[34m\u001b[1m_.\u001b[34m\u001b[1m_.\u001b[34m\u001b[1m_.\u001b[34m\u001b[1m_.\u001b[34m\u001b[1m_.\u001b[34m\u001b[1m_.\u001b[34m\u001b[1m_.\u001b[34m\u001b[1m_.\u001b[34m\u001b[1m_.\u001b[34m\u001b[1m_.\u001b[34m\u001b[1m_.\u001b[34m\u001b[1m_.\u001b[34m\u001b[1m_.\u001b[34m\u001b[1m_.\u001b[34m\u001b[1m_.\u001b[34m\u001b[1m_.\u001b[34m\u001b[1m_.\n",
      "\u001b[0m\u001b[35m\u001b[1mAnkara is the capital city of Turkey. It has a rich history dating back to ancient times and is home to many historical landmarks such as the Anatolian Falcon Museum and the Roman ruins of Hierapolis. Today, Ankara is a major cultural and economic hub in the country.\n",
      "\u001b[0m"
     ]
    }
   ],
   "source": [
    "invoke_question(\"Can you tell me about Ankara?\")"
   ]
  },
  {
   "cell_type": "code",
   "execution_count": 64,
   "id": "fe57ac10-c16c-405d-97c6-e28dae1733d0",
   "metadata": {},
   "outputs": [
    {
     "name": "stdout",
     "output_type": "stream",
     "text": [
      "Prompt : input_variables=['question'] input_types={} partial_variables={} messages=[SystemMessagePromptTemplate(prompt=PromptTemplate(input_variables=[], input_types={}, partial_variables={}, template=\"You are an assistant for question-answering tasks. Use the following documents to answer the question. If you don't know the answer, just say that you don't know. Use three sentences maximum and keep the answer concise:\"), additional_kwargs={}), HumanMessagePromptTemplate(prompt=PromptTemplate(input_variables=['question'], input_types={}, partial_variables={}, template='{question}'), additional_kwargs={})]\n",
      "\u001b[34m\u001b[1m_.\u001b[34m\u001b[1m_.\u001b[34m\u001b[1m_.\u001b[34m\u001b[1m_.\u001b[34m\u001b[1m_.\u001b[34m\u001b[1m_.\u001b[34m\u001b[1m_.\u001b[34m\u001b[1m_.\u001b[34m\u001b[1m_.\u001b[34m\u001b[1m_.\u001b[34m\u001b[1m_.\u001b[34m\u001b[1m_.\u001b[34m\u001b[1m_.\u001b[34m\u001b[1m_.\u001b[34m\u001b[1m_.\u001b[34m\u001b[1m_.\u001b[34m\u001b[1m_.\u001b[34m\u001b[1m_.\u001b[34m\u001b[1m_.\u001b[34m\u001b[1m_.\u001b[34m\u001b[1m_.\u001b[34m\u001b[1m_.\u001b[34m\u001b[1m_.\u001b[34m\u001b[1m_.\u001b[34m\u001b[1m_.\u001b[34m\u001b[1m_.\u001b[34m\u001b[1m_.\u001b[34m\u001b[1m_.\u001b[34m\u001b[1m_.\u001b[34m\u001b[1m_.\u001b[34m\u001b[1m_.\u001b[34m\u001b[1m_.\u001b[34m\u001b[1m_.\u001b[34m\u001b[1m_.\u001b[34m\u001b[1m_.\u001b[34m\u001b[1m_.\u001b[34m\u001b[1m_.\u001b[34m\u001b[1m_.\u001b[34m\u001b[1m_.\u001b[34m\u001b[1m_.\u001b[34m\u001b[1m_.\u001b[34m\u001b[1m_.\u001b[34m\u001b[1m_.\u001b[34m\u001b[1m_.\u001b[34m\u001b[1m_.\u001b[34m\u001b[1m_.\u001b[34m\u001b[1m_.\u001b[34m\u001b[1m_.\u001b[34m\u001b[1m_.\u001b[34m\u001b[1m_.\u001b[34m\u001b[1m_.\u001b[34m\u001b[1m_.\u001b[34m\u001b[1m_.\u001b[34m\u001b[1m_.\u001b[34m\u001b[1m_.\u001b[34m\u001b[1m_.\u001b[34m\u001b[1m_.\u001b[34m\u001b[1m_.\u001b[34m\u001b[1m_.\u001b[34m\u001b[1m_.\u001b[34m\u001b[1m_.\u001b[34m\u001b[1m_.\u001b[34m\u001b[1m_.\u001b[34m\u001b[1m_.\u001b[34m\u001b[1m_.\u001b[34m\u001b[1m_.\u001b[34m\u001b[1m_.\u001b[34m\u001b[1m_.\u001b[34m\u001b[1m_.\u001b[34m\u001b[1m_.\u001b[34m\u001b[1m_.\u001b[34m\u001b[1m_.\u001b[34m\u001b[1m_.\u001b[34m\u001b[1m_.\u001b[34m\u001b[1m_.\n",
      "\u001b[0m\u001b[35m\u001b[1mKayseri is a city located in central Turkey. It's known for its rich history and culture, as well as its traditional foods such as kebabs and baklava. The city is also famous for its production of Turkish delight.\n",
      "\u001b[0m"
     ]
    }
   ],
   "source": [
    "invoke_question(\"Can you tell me about Kayseri?\")"
   ]
  },
  {
   "cell_type": "code",
   "execution_count": 65,
   "id": "8f516116-4fd2-42f7-bf30-23578868615c",
   "metadata": {},
   "outputs": [
    {
     "name": "stdout",
     "output_type": "stream",
     "text": [
      "Prompt : input_variables=['question'] input_types={} partial_variables={} messages=[SystemMessagePromptTemplate(prompt=PromptTemplate(input_variables=[], input_types={}, partial_variables={}, template=\"You are an assistant for question-answering tasks. Use the following documents to answer the question. If you don't know the answer, just say that you don't know. Use three sentences maximum and keep the answer concise:\"), additional_kwargs={}), HumanMessagePromptTemplate(prompt=PromptTemplate(input_variables=['question'], input_types={}, partial_variables={}, template='{question}'), additional_kwargs={})]\n",
      "\u001b[34m\u001b[1m_.\u001b[34m\u001b[1m_.\u001b[34m\u001b[1m_.\u001b[34m\u001b[1m_.\u001b[34m\u001b[1m_.\u001b[34m\u001b[1m_.\u001b[34m\u001b[1m_.\u001b[34m\u001b[1m_.\u001b[34m\u001b[1m_.\u001b[34m\u001b[1m_.\u001b[34m\u001b[1m_.\u001b[34m\u001b[1m_.\u001b[34m\u001b[1m_.\u001b[34m\u001b[1m_.\u001b[34m\u001b[1m_.\u001b[34m\u001b[1m_.\u001b[34m\u001b[1m_.\u001b[34m\u001b[1m_.\u001b[34m\u001b[1m_.\u001b[34m\u001b[1m_.\u001b[34m\u001b[1m_.\u001b[34m\u001b[1m_.\u001b[34m\u001b[1m_.\u001b[34m\u001b[1m_.\u001b[34m\u001b[1m_.\u001b[34m\u001b[1m_.\u001b[34m\u001b[1m_.\u001b[34m\u001b[1m_.\u001b[34m\u001b[1m_.\u001b[34m\u001b[1m_.\u001b[34m\u001b[1m_.\u001b[34m\u001b[1m_.\u001b[34m\u001b[1m_.\u001b[34m\u001b[1m_.\u001b[34m\u001b[1m_.\u001b[34m\u001b[1m_.\u001b[34m\u001b[1m_.\u001b[34m\u001b[1m_.\u001b[34m\u001b[1m_.\u001b[34m\u001b[1m_.\u001b[34m\u001b[1m_.\u001b[34m\u001b[1m_.\u001b[34m\u001b[1m_.\u001b[34m\u001b[1m_.\u001b[34m\u001b[1m_.\u001b[34m\u001b[1m_.\u001b[34m\u001b[1m_.\u001b[34m\u001b[1m_.\u001b[34m\u001b[1m_.\u001b[34m\u001b[1m_.\u001b[34m\u001b[1m_.\u001b[34m\u001b[1m_.\u001b[34m\u001b[1m_.\u001b[34m\u001b[1m_.\u001b[34m\u001b[1m_.\u001b[34m\u001b[1m_.\u001b[34m\u001b[1m_.\u001b[34m\u001b[1m_.\u001b[34m\u001b[1m_.\u001b[34m\u001b[1m_.\u001b[34m\u001b[1m_.\u001b[34m\u001b[1m_.\u001b[34m\u001b[1m_.\u001b[34m\u001b[1m_.\u001b[34m\u001b[1m_.\u001b[34m\u001b[1m_.\u001b[34m\u001b[1m_.\u001b[34m\u001b[1m_.\u001b[34m\u001b[1m_.\u001b[34m\u001b[1m_.\u001b[34m\u001b[1m_.\u001b[34m\u001b[1m_.\u001b[34m\u001b[1m_.\u001b[34m\u001b[1m_.\u001b[34m\u001b[1m_.\n",
      "\u001b[0m\u001b[35m\u001b[1mAccording to historical records, Istanbul's history can be divided into the following five major periods:\n",
      "\n",
      "1. Byzantine Period (330-1453 CE): This period saw the establishment of Constantinople as the capital of the Eastern Roman Empire.\n",
      "2. Ottoman Period (1453-1922 CE): The Ottoman Empire took control of the city and it became the capital, with significant architectural and cultural developments.\n",
      "3. Greek Period (1922-1923 CE): After World War I, Istanbul was briefly occupied by Greece before being recaptured by Turkey.\n",
      "4. Turkish Republic Period (1923-present CE): With its new status as a republic, Istanbul continued to grow and develop as the largest city in Turkey.\n",
      "\n",
      "I hope that helps!\n",
      "\u001b[0m"
     ]
    }
   ],
   "source": [
    "invoke_question(\"If Istanbul's history could be divided into five major periods, what would they be?\")"
   ]
  },
  {
   "cell_type": "markdown",
   "id": "65bfe1dc-5a17-487c-9803-6edd6bc18b06",
   "metadata": {},
   "source": [
    "### RAG application"
   ]
  },
  {
   "cell_type": "code",
   "execution_count": 66,
   "id": "77375829-d5b9-4918-ab1e-28f33b166d32",
   "metadata": {},
   "outputs": [],
   "source": [
    "# Define the RAG application class\n",
    "class RAGApplication:\n",
    "    def __init__(self, retriever, rag_chain):\n",
    "        self.retriever = retriever\n",
    "        self.rag_chain = rag_chain\n",
    "    def run(self, question):\n",
    "        # Retrieve relevant documents\n",
    "        documents = self.retriever.invoke(question)\n",
    "        # Extract content from retrieved documents\n",
    "        doc_texts = \"\\\\n\".join([doc.page_content for doc in documents])\n",
    "        # Get the answer from the language model\n",
    "        answer = self.rag_chain.invoke({\"question\": question, \"documents\": doc_texts})\n",
    "        return answer"
   ]
  },
  {
   "cell_type": "code",
   "execution_count": 72,
   "id": "12c9230a-bc41-4aec-9aa2-0564562205fa",
   "metadata": {},
   "outputs": [
    {
     "name": "stdout",
     "output_type": "stream",
     "text": [
      "Question: Can you tell me about Istanbul?\n",
      "Answer: I can help with that! According to various sources, Istanbul is the largest city in Turkey, straddling Europe and Asia across the Bosphorus Strait. It's known for its rich history, cultural heritage, and vibrant atmosphere, with popular attractions like the Hagia Sophia, Blue Mosque, and Topkapi Palace.\n"
     ]
    }
   ],
   "source": [
    "# Initialize the RAG application\n",
    "retriever = vectorstore.as_retriever(k=5)\n",
    "rag_application = RAGApplication(retriever, chain)\n",
    "# Example usage\n",
    "question = \"Can you tell me about Istanbul?\"\n",
    "answer = rag_application.run(question)\n",
    "print(\"Question:\", question)\n",
    "print(\"Answer:\", answer)"
   ]
  },
  {
   "cell_type": "code",
   "execution_count": 73,
   "id": "1d394a13-e475-4738-974c-a29ee921c69a",
   "metadata": {},
   "outputs": [
    {
     "name": "stdout",
     "output_type": "stream",
     "text": [
      "Question: Can you tell me about Bursa?\n",
      "Answer: According to my knowledge, Bursa is a city located in northwestern Turkey. It's known for its historic architecture, cultural heritage, and natural beauty, with the Uludag Mountain being a popular ski resort.\n"
     ]
    }
   ],
   "source": [
    "# Initialize the RAG application\n",
    "rag_application = RAGApplication(retriever, chain)\n",
    "# Example usage\n",
    "question = \"Can you tell me about Bursa?\"\n",
    "answer = rag_application.run(question)\n",
    "print(\"Question:\", question)\n",
    "print(\"Answer:\", answer)"
   ]
  },
  {
   "cell_type": "code",
   "execution_count": 74,
   "id": "2e202dff-e8cf-49b2-9d45-c84e4ee674e7",
   "metadata": {},
   "outputs": [
    {
     "name": "stdout",
     "output_type": "stream",
     "text": [
      "Question: Can you tell me about Sivas?\n",
      "Answer: Sivas is a city in central Turkey, known for its rich history and cultural heritage. The city has been an important center of trade and commerce since ancient times, and it's home to many historical landmarks such as the Divriği Great Mosque and the Sivas Citadel. Today, Sivas is a thriving city with a strong economy and a vibrant cultural scene.\n"
     ]
    }
   ],
   "source": [
    "# Initialize the RAG application\n",
    "rag_application = RAGApplication(retriever, chain)\n",
    "# Example usage\n",
    "question = \"Can you tell me about Sivas?\"\n",
    "answer = rag_application.run(question)\n",
    "print(\"Question:\", question)\n",
    "print(\"Answer:\", answer)"
   ]
  },
  {
   "cell_type": "code",
   "execution_count": 75,
   "id": "66224650-6334-4ca9-8cff-8a8d28faa5b0",
   "metadata": {},
   "outputs": [
    {
     "name": "stdout",
     "output_type": "stream",
     "text": [
      "Question: Can you tell me about Mersin?\n",
      "Answer: Mersin is a city located on the Mediterranean coast of Turkey. It is a significant port city and an important industrial center in the country. The city has a rich history dating back to ancient times, with archaeological sites such as Soli and Tarsus nearby.\n"
     ]
    }
   ],
   "source": [
    "# Initialize the RAG application\n",
    "rag_application = RAGApplication(retriever, chain)\n",
    "# Example usage\n",
    "question = \"Can you tell me about Mersin?\"\n",
    "answer = rag_application.run(question)\n",
    "print(\"Question:\", question)\n",
    "print(\"Answer:\", answer)"
   ]
  },
  {
   "cell_type": "code",
   "execution_count": 76,
   "id": "b6f1aab4-47f7-461a-9424-1dccdc38c2ad",
   "metadata": {},
   "outputs": [],
   "source": [
    "# end"
   ]
  }
 ],
 "metadata": {
  "kernelspec": {
   "display_name": "Python 3 (ipykernel)",
   "language": "python",
   "name": "python3"
  },
  "language_info": {
   "codemirror_mode": {
    "name": "ipython",
    "version": 3
   },
   "file_extension": ".py",
   "mimetype": "text/x-python",
   "name": "python",
   "nbconvert_exporter": "python",
   "pygments_lexer": "ipython3",
   "version": "3.10.13"
  }
 },
 "nbformat": 4,
 "nbformat_minor": 5
}
