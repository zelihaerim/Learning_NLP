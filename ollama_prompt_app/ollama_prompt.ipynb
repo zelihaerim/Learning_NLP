{
 "cells": [
  {
   "cell_type": "markdown",
   "metadata": {},
   "source": [
    "#### Getting started With Langchain And Ollma\n",
    "\n",
    "In this quickstart we'll see how to:\n",
    "\n",
    "- Get setup with LangChain, LangSmith and LangServe\n",
    "- Use the most basic and common components of LangChain: prompt templates, models, and output parsers.\n",
    "- Build a simple application with LangChain\n",
    "- You can trace your application with LangSmith by looking logs, to do this you should create api key.\n",
    "- You can serve your application with LangServe. It helps developers deploy LangChain runnables and chains as a REST API."
   ]
  },
  {
   "cell_type": "code",
   "execution_count": 1,
   "metadata": {},
   "outputs": [],
   "source": [
    "!pip install langchain_community -q"
   ]
  },
  {
   "cell_type": "code",
   "execution_count": 17,
   "metadata": {},
   "outputs": [],
   "source": [
    "!pip install colorama -q"
   ]
  },
  {
   "cell_type": "code",
   "execution_count": 18,
   "metadata": {},
   "outputs": [],
   "source": [
    "from colorama import Fore, Style"
   ]
  },
  {
   "cell_type": "code",
   "execution_count": 1,
   "metadata": {},
   "outputs": [],
   "source": [
    "from langchain_community.llms import Ollama\n",
    "from langchain_community.chat_models import ChatOllama\n",
    "from langchain_core.output_parsers import StrOutputParser\n",
    "from langchain_core.prompts import ChatPromptTemplate\n",
    "import warnings\n",
    "warnings.filterwarnings(\"ignore\")"
   ]
  },
  {
   "cell_type": "markdown",
   "metadata": {},
   "source": [
    "### Ollama"
   ]
  },
  {
   "cell_type": "code",
   "execution_count": 2,
   "metadata": {},
   "outputs": [],
   "source": [
    "llm = Ollama(model=\"gemma2:2b\")\n",
    "# llm = ChatOllama(model=\"llama3\", format=\"json\", temperature=0)\n",
    "# llm.invoke(\"Why is the sky blue?\") # example usage"
   ]
  },
  {
   "cell_type": "code",
   "execution_count": 4,
   "metadata": {},
   "outputs": [],
   "source": [
    "## Input and get response form LLM\n",
    "result=llm.invoke(\"What is generative AI?\")"
   ]
  },
  {
   "cell_type": "code",
   "execution_count": 5,
   "metadata": {
    "scrolled": true
   },
   "outputs": [
    {
     "name": "stdout",
     "output_type": "stream",
     "text": [
      "Generative AI, simply put, is a type of artificial intelligence that can create new content.  Think of it as the creative force behind an AI! Here's a breakdown:\n",
      "\n",
      "**How it Works:**\n",
      "\n",
      "* **Training Data:** Generative AI models are trained on massive datasets of existing information (text, images, code, etc.). This allows them to learn patterns, relationships, and styles within that data.\n",
      "* **Learning & Prediction:** Based on their training, these models can then predict what kind of content would fit a particular pattern or context. \n",
      "* **Output Generation:**  They can use this prediction to generate new outputs like:\n",
      "    * **Text:** Poems, articles, scripts, summaries\n",
      "    * **Images:** Photos, paintings, drawings\n",
      "    * **Code:** Programs, website layouts \n",
      "    * **Music:** Songs, soundtracks, melodies \n",
      "\n",
      "\n",
      "**What Makes it Special?**\n",
      "\n",
      "* **Creativity & Innovation:**  Generative AI can produce original content that goes beyond what's currently possible. This opens up exciting possibilities in various fields like art, entertainment, and even scientific discovery.\n",
      "* **Efficiency & Automation:**   It automates creative tasks, saving time and resources for humans. For example, you could use it to create marketing materials or generate code for a website. \n",
      "\n",
      "\n",
      "**Examples of Generative AI in Action:**\n",
      "\n",
      "* **DALL-E 2:** Creates stunning images from text descriptions.\n",
      "* **ChatGPT:**  Generates human-quality text conversations and articles.\n",
      "* **GitHub Copilot:** Offers coding suggestions to developers, speeding up their work. \n",
      "\n",
      "\n",
      "**Where is it Headed?**\n",
      "\n",
      "Generative AI is still evolving rapidly, but its impact on various industries is already being felt:\n",
      "\n",
      "* **Creative Industries:**  Revolutionizing filmmaking, art creation, and music production.\n",
      "* **Business & Technology:** Automating tasks, generating personalized content for users, and pushing the boundaries of innovation.\n",
      "\n",
      "\n",
      "Let me know if you want to learn more about a specific aspect of generative AI! \n",
      "\n"
     ]
    }
   ],
   "source": [
    "print(result)"
   ]
  },
  {
   "cell_type": "markdown",
   "metadata": {},
   "source": [
    "### ChatPromptTemplate"
   ]
  },
  {
   "cell_type": "markdown",
   "metadata": {},
   "source": [
    "#### From template"
   ]
  },
  {
   "cell_type": "code",
   "execution_count": 23,
   "metadata": {},
   "outputs": [
    {
     "name": "stdout",
     "output_type": "stream",
     "text": [
      "Why don't astronauts ever run out of coffee in space? \n",
      "\n",
      "Because they have an \"orbit-tation\" on their beans! 😅  \n",
      "\n",
      "\n",
      "Let me know if you'd like to hear another one! 🚀 \n",
      "\n"
     ]
    }
   ],
   "source": [
    "prompt = ChatPromptTemplate.from_template(\"Tell me a short joke about {topic}\")\n",
    "\n",
    "chain = prompt | llm | StrOutputParser()\n",
    "print(chain.invoke({\"topic\": \"Space travel\"}))"
   ]
  },
  {
   "cell_type": "code",
   "execution_count": 24,
   "metadata": {},
   "outputs": [
    {
     "name": "stdout",
     "output_type": "stream",
     "text": [
      "Here's a common superstition regarding black cats:\n",
      "\n",
      "**In some cultures, encountering a black cat is considered an omen of ill fortune. This belief often stems from the association of black cats with darkness and witchcraft in folklore.** \n",
      "\n",
      "However, it's important to remember that superstitions are just beliefs, not facts!  There's no scientific evidence to support these claims. \n",
      "\n",
      "\n",
      "**Here are some variations on this theme:**\n",
      "\n",
      "* **Black cats crossing your path**: Many believe this signifies bad luck, while others see it as a sign of good fortune.\n",
      "* **Bad luck for unmarried women**: Some say encountering a black cat brings unwanted suitors or delays marriage.  \n",
      "* **The color black symbolizes danger and evil in some cultures.** \n",
      "\n",
      "\n",
      "Is there anything else you'd like to know about this? \n",
      "\n"
     ]
    }
   ],
   "source": [
    "prompt = ChatPromptTemplate.from_template(\"Tell me a superstition about {topic}\")\n",
    "\n",
    "chain = prompt | llm | StrOutputParser()\n",
    "print(chain.invoke({\"topic\": \"black cat\"}))"
   ]
  },
  {
   "cell_type": "code",
   "execution_count": 25,
   "metadata": {},
   "outputs": [
    {
     "name": "stdout",
     "output_type": "stream",
     "text": [
      "One of the most popular superstitions about the number 13 is that it's **bad luck**.  \n",
      "\n",
      "Here's why this belief exists:\n",
      "\n",
      "* **Historical reasons:** Many cultures associate Friday the 13th with ill omens, due to a combination of historical events like the Crusades and stories surrounding Mary, Queen of Scots. \n",
      "* **Folklore:** Throughout history, there were numerous tales about people encountering misfortune on the 13th day, and this has led to a general fear associated with the number.\n",
      "* **Religious context:**  In some religions (e.g., Christianity), the number 13 can be considered unlucky due to its association with Judas' betrayal of Jesus.\n",
      "\n",
      "The superstition persists in various forms across different cultures. Some people will avoid certain activities on Friday the 13th, or avoid building a house on the 13th floor for example.  It's often a fun and playful way to share stories and beliefs, even if it lacks factual grounding. \n",
      "\n",
      "\n",
      "Do you want to explore other superstitions? 😊 \n",
      "\n"
     ]
    }
   ],
   "source": [
    "print(chain.invoke({\"topic\": \"number 13\"}))"
   ]
  },
  {
   "cell_type": "markdown",
   "metadata": {},
   "source": [
    "#### From messages"
   ]
  },
  {
   "cell_type": "code",
   "execution_count": 26,
   "metadata": {
    "scrolled": true
   },
   "outputs": [
    {
     "name": "stdout",
     "output_type": "stream",
     "text": [
      "Prompt : input_variables=['input'] input_types={} partial_variables={} messages=[SystemMessagePromptTemplate(prompt=PromptTemplate(input_variables=[], input_types={}, partial_variables={}, template='You are an expert AI Engineer. Provide me answers based on the questions'), additional_kwargs={}), HumanMessagePromptTemplate(prompt=PromptTemplate(input_variables=['input'], input_types={}, partial_variables={}, template='{input}'), additional_kwargs={})]\n",
      "Prompt : input_variables=['input'] input_types={} partial_variables={} messages=[SystemMessagePromptTemplate(prompt=PromptTemplate(input_variables=[], input_types={}, partial_variables={}, template='You are an expert AI Engineer. Provide me answers based on the questions'), additional_kwargs={}), HumanMessagePromptTemplate(prompt=PromptTemplate(input_variables=['input'], input_types={}, partial_variables={}, template='{input}'), additional_kwargs={})]\n",
      "\u001b[34m\u001b[1m_.\u001b[34m\u001b[1m_.\u001b[34m\u001b[1m_.\u001b[34m\u001b[1m_.\u001b[34m\u001b[1m_.\u001b[34m\u001b[1m_.\u001b[34m\u001b[1m_.\u001b[34m\u001b[1m_.\u001b[34m\u001b[1m_.\u001b[34m\u001b[1m_.\u001b[34m\u001b[1m_.\u001b[34m\u001b[1m_.\u001b[34m\u001b[1m_.\u001b[34m\u001b[1m_.\u001b[34m\u001b[1m_.\u001b[34m\u001b[1m_.\u001b[34m\u001b[1m_.\u001b[34m\u001b[1m_.\u001b[34m\u001b[1m_.\u001b[34m\u001b[1m_.\u001b[34m\u001b[1m_.\u001b[34m\u001b[1m_.\u001b[34m\u001b[1m_.\u001b[34m\u001b[1m_.\u001b[34m\u001b[1m_.\u001b[34m\u001b[1m_.\u001b[34m\u001b[1m_.\u001b[34m\u001b[1m_.\u001b[34m\u001b[1m_.\u001b[34m\u001b[1m_.\u001b[34m\u001b[1m_.\u001b[34m\u001b[1m_.\u001b[34m\u001b[1m_.\u001b[34m\u001b[1m_.\u001b[34m\u001b[1m_.\u001b[34m\u001b[1m_.\u001b[34m\u001b[1m_.\u001b[34m\u001b[1m_.\u001b[34m\u001b[1m_.\u001b[34m\u001b[1m_.\u001b[34m\u001b[1m_.\u001b[34m\u001b[1m_.\u001b[34m\u001b[1m_.\u001b[34m\u001b[1m_.\u001b[34m\u001b[1m_.\u001b[34m\u001b[1m_.\u001b[34m\u001b[1m_.\u001b[34m\u001b[1m_.\u001b[34m\u001b[1m_.\u001b[34m\u001b[1m_.\u001b[34m\u001b[1m_.\u001b[34m\u001b[1m_.\u001b[34m\u001b[1m_.\u001b[34m\u001b[1m_.\u001b[34m\u001b[1m_.\u001b[34m\u001b[1m_.\u001b[34m\u001b[1m_.\u001b[34m\u001b[1m_.\u001b[34m\u001b[1m_.\u001b[34m\u001b[1m_.\u001b[34m\u001b[1m_.\u001b[34m\u001b[1m_.\u001b[34m\u001b[1m_.\u001b[34m\u001b[1m_.\u001b[34m\u001b[1m_.\u001b[34m\u001b[1m_.\u001b[34m\u001b[1m_.\u001b[34m\u001b[1m_.\u001b[34m\u001b[1m_.\u001b[34m\u001b[1m_.\u001b[34m\u001b[1m_.\u001b[34m\u001b[1m_.\u001b[34m\u001b[1m_.\u001b[34m\u001b[1m_.\u001b[34m\u001b[1m_.\n",
      "\u001b[0m\u001b[35m\u001b[1m## Langsmith: A Deep Dive into the World of Open-Source Language Models\n",
      "\n",
      "Langsmith is an exciting open-source project aiming to democratize access and empower creators with powerful language models. Let's explore its key aspects:\n",
      "\n",
      "**What Makes Langsmith Special?**\n",
      "\n",
      "* **Fine-Tuned for Multilingual Tasks:** Langsmith leverages a unique approach by fine-tuning large language models (LLMs) on a massive dataset of multilingual text. This ensures it excels in tasks like translation, summarization, and code generation across multiple languages, surpassing many other open-source alternatives. \n",
      "* **Flexibility & Customization:**  Langsmith focuses on flexibility through its modular design. Users can easily adapt the model to specific needs by fine-tuning or even building custom versions tailored for their applications. This opens doors for diverse projects like content creation, education, and personalized AI assistants.\n",
      "* **Community-Driven:** Langsmith benefits from a vibrant community of developers and enthusiasts contributing to its development.  The open-source nature encourages collaboration, rapid innovation, and continuous improvement, making it a constantly evolving project.\n",
      "\n",
      "**How Can You Use Langsmith?**\n",
      "\n",
      "Langsmith offers various functionalities: \n",
      "\n",
      "1. **Model Deployment & Access:** Users can deploy pre-trained models for use in their applications, or access them through the online platform offered by Langsmith, simplifying development processes.\n",
      "2. **Fine-Tuning Capabilities:**  Experiment with different datasets and train your own specialized language models to address specific requirements, tailoring them for unique tasks like business automation, scientific research, or content generation tailored to a particular style. \n",
      "\n",
      "\n",
      "**Benefits of Langsmith:**\n",
      "\n",
      "* **Cost-Effective Solutions:**  Compared to proprietary solutions, Langsmith offers an affordable option for leveraging powerful AI capabilities, making it accessible to individuals and organizations of all sizes.\n",
      "* **Rapid Prototyping & Development:** The easy-to-use interface and the diverse functionalities of Langsmith allow users to quickly prototype ideas and develop working applications faster than ever before. \n",
      "\n",
      "\n",
      "**In Summary:**  Langsmith is a valuable tool for anyone looking to harness the power of language models in their projects, offering customization options, community support, and cost-effective solutions.\n",
      "\n",
      "**Further Resources:** \n",
      "\n",
      "* **Official Langsmith Website:** [https://langsmith.ai](https://langsmith.ai)\n",
      "* **Langsmith Documentation:**  [https://langsmith.ai/docs](https://langsmith.ai/docs)\n",
      "\n",
      "\n",
      "\n",
      "\n",
      "If you have specific questions about Langsmith or need help with its implementation, feel free to ask! I'm here to assist you further. \n",
      "\n",
      "\u001b[0m"
     ]
    }
   ],
   "source": [
    "### Chatprompt Template\n",
    "prompt=ChatPromptTemplate.from_messages(\n",
    "    [\n",
    "        (\"system\",\"You are an expert AI Engineer. Provide me answers based on the questions\"),\n",
    "        (\"user\",\"{input}\")\n",
    "    ]\n",
    ")\n",
    "print(f\"Prompt : {prompt}\")\n",
    "## chain \n",
    "chain=prompt|llm\n",
    "response=chain.invoke({\"input\":\"Can you tell me about Langsmith?\"})\n",
    "print(f\"Prompt : {prompt}\")\n",
    "print(f\"{Fore.BLUE}{Style.BRIGHT}_.\"*75)\n",
    "print(Style.RESET_ALL, end=\"\")\n",
    "print(f\"{Fore.MAGENTA}{Style.BRIGHT}{response}\")\n",
    "print(Style.RESET_ALL, end=\"\")"
   ]
  },
  {
   "cell_type": "code",
   "execution_count": 27,
   "metadata": {
    "scrolled": true
   },
   "outputs": [
    {
     "name": "stdout",
     "output_type": "stream",
     "text": [
      "Prompt : input_variables=['input'] input_types={} partial_variables={} messages=[SystemMessagePromptTemplate(prompt=PromptTemplate(input_variables=[], input_types={}, partial_variables={}, template='You are an expert astronomer. Give me answers based on your expertise.'), additional_kwargs={}), HumanMessagePromptTemplate(prompt=PromptTemplate(input_variables=['input'], input_types={}, partial_variables={}, template='{input}'), additional_kwargs={})]\n",
      "Prompt : input_variables=['input'] input_types={} partial_variables={} messages=[SystemMessagePromptTemplate(prompt=PromptTemplate(input_variables=[], input_types={}, partial_variables={}, template='You are an expert astronomer. Give me answers based on your expertise.'), additional_kwargs={}), HumanMessagePromptTemplate(prompt=PromptTemplate(input_variables=['input'], input_types={}, partial_variables={}, template='{input}'), additional_kwargs={})]\n",
      "\u001b[34m\u001b[1m_.\u001b[34m\u001b[1m_.\u001b[34m\u001b[1m_.\u001b[34m\u001b[1m_.\u001b[34m\u001b[1m_.\u001b[34m\u001b[1m_.\u001b[34m\u001b[1m_.\u001b[34m\u001b[1m_.\u001b[34m\u001b[1m_.\u001b[34m\u001b[1m_.\u001b[34m\u001b[1m_.\u001b[34m\u001b[1m_.\u001b[34m\u001b[1m_.\u001b[34m\u001b[1m_.\u001b[34m\u001b[1m_.\u001b[34m\u001b[1m_.\u001b[34m\u001b[1m_.\u001b[34m\u001b[1m_.\u001b[34m\u001b[1m_.\u001b[34m\u001b[1m_.\u001b[34m\u001b[1m_.\u001b[34m\u001b[1m_.\u001b[34m\u001b[1m_.\u001b[34m\u001b[1m_.\u001b[34m\u001b[1m_.\u001b[34m\u001b[1m_.\u001b[34m\u001b[1m_.\u001b[34m\u001b[1m_.\u001b[34m\u001b[1m_.\u001b[34m\u001b[1m_.\u001b[34m\u001b[1m_.\u001b[34m\u001b[1m_.\u001b[34m\u001b[1m_.\u001b[34m\u001b[1m_.\u001b[34m\u001b[1m_.\u001b[34m\u001b[1m_.\u001b[34m\u001b[1m_.\u001b[34m\u001b[1m_.\u001b[34m\u001b[1m_.\u001b[34m\u001b[1m_.\u001b[34m\u001b[1m_.\u001b[34m\u001b[1m_.\u001b[34m\u001b[1m_.\u001b[34m\u001b[1m_.\u001b[34m\u001b[1m_.\u001b[34m\u001b[1m_.\u001b[34m\u001b[1m_.\u001b[34m\u001b[1m_.\u001b[34m\u001b[1m_.\u001b[34m\u001b[1m_.\u001b[34m\u001b[1m_.\u001b[34m\u001b[1m_.\u001b[34m\u001b[1m_.\u001b[34m\u001b[1m_.\u001b[34m\u001b[1m_.\u001b[34m\u001b[1m_.\u001b[34m\u001b[1m_.\u001b[34m\u001b[1m_.\u001b[34m\u001b[1m_.\u001b[34m\u001b[1m_.\u001b[34m\u001b[1m_.\u001b[34m\u001b[1m_.\u001b[34m\u001b[1m_.\u001b[34m\u001b[1m_.\u001b[34m\u001b[1m_.\u001b[34m\u001b[1m_.\u001b[34m\u001b[1m_.\u001b[34m\u001b[1m_.\u001b[34m\u001b[1m_.\u001b[34m\u001b[1m_.\u001b[34m\u001b[1m_.\u001b[34m\u001b[1m_.\u001b[34m\u001b[1m_.\u001b[34m\u001b[1m_.\u001b[34m\u001b[1m_.\n",
      "\u001b[0m\u001b[35m\u001b[1mAh, Jupiter!  One of the most fascinating planets in our solar system.  Here's a breakdown of this gas giant extraordinaire: \n",
      "\n",
      "**Basic Facts:**\n",
      "\n",
      "* **Size and Mass:** Jupiter is truly massive. It's over 10 times wider than Earth and has over 300 times the mass! This makes it the largest planet in our solar system by far.\n",
      "* **Composition:**  Jupiter is primarily composed of hydrogen and helium, just like the sun. However, it also contains traces of other gases like methane (which creates its distinctive red spots) and ammonia. These materials contribute to a complex internal structure. \n",
      "\n",
      "**Key Features & Characteristics:**\n",
      "\n",
      "* **Great Red Spot:** This massive storm on Jupiter's surface is so large that it could fit over 10 Earths inside! It has been raging for centuries, with scientists still struggling to fully understand its longevity and dynamics.\n",
      "* **Colorful Atmosphere:**  Jupiter boasts a rich and colorful atmosphere due to its unique composition. The bands of clouds are not merely colors but distinct features created by the planet's powerful storms, temperature variations, and chemical processes. \n",
      "* **Moons Galore:** Jupiter has at least 79 confirmed moons, with more still being discovered! Some prominent ones include: Io (with active volcanoes), Europa (thought to harbor potential for life), Ganymede (the largest moon in our solar system), and Callisto (older and heavily cratered).  \n",
      "* **Strong Magnetic Field:** Jupiter's massive magnetic field is about 10,000 times stronger than Earth's. This strong field generates powerful auroras that dance on its poles during solar activity.\n",
      "\n",
      "**Ongoing Research & Exploration:**\n",
      "\n",
      "* **Juno Mission:** NASA's Juno spacecraft has been orbiting Jupiter since 2016 and is providing valuable insights into the planet's atmosphere, magnetosphere, and interior structure.\n",
      "* **Future Missions:** The James Webb Space Telescope (JWST) will also give us a new perspective on Jupiter in the coming years, particularly focused on the atmospheric interactions of gases and how it impacts its magnetic field. \n",
      "\n",
      "**Jupiter in Context:**\n",
      "\n",
      "* **Formation:**  Jupiter likely formed through a process similar to that of other gas giants; initially, it gathered heavier elements as the solar nebula collapsed and began spinning faster. This resulted in the planet's core with more mass and a less dense outer layer.\n",
      "* **Influence on the Solar System:** Jupiter exerts a significant gravitational pull on the rest of the planets in our solar system, especially the inner planets (Earth and Mars).  This influence is what keeps these planets from drifting too far away or into chaos.\n",
      "\n",
      "\n",
      "**Want to know more about Jupiter?  I can tell you about its moons' geological activity, the challenges of observing it through telescopes, its potential role in understanding the formation of our solar system, or anything else that interests you!  Just ask!** \n",
      "\n",
      "\u001b[0m"
     ]
    }
   ],
   "source": [
    "prompt=ChatPromptTemplate.from_messages(\n",
    "    [\n",
    "        (\"system\",\"You are an expert astronomer. Give me answers based on your expertise.\"),\n",
    "        (\"user\",\"{input}\")\n",
    "    ]\n",
    ")\n",
    "print(f\"Prompt : {prompt}\")\n",
    "## chain \n",
    "chain=prompt|llm\n",
    "response=chain.invoke({\"input\":\"Can you tell me about Jupiter?\"})\n",
    "print(f\"Prompt : {prompt}\")\n",
    "print(f\"{Fore.BLUE}{Style.BRIGHT}_.\"*75)\n",
    "print(Style.RESET_ALL, end=\"\")\n",
    "print(f\"{Fore.MAGENTA}{Style.BRIGHT}{response}\")\n",
    "print(Style.RESET_ALL, end=\"\")"
   ]
  },
  {
   "cell_type": "code",
   "execution_count": 28,
   "metadata": {
    "scrolled": true
   },
   "outputs": [
    {
     "name": "stdout",
     "output_type": "stream",
     "text": [
      "Prompt : input_variables=['input'] input_types={} partial_variables={} messages=[SystemMessagePromptTemplate(prompt=PromptTemplate(input_variables=[], input_types={}, partial_variables={}, template='You are an expert meteorologist. Give me answers based on your expertise.'), additional_kwargs={}), HumanMessagePromptTemplate(prompt=PromptTemplate(input_variables=['input'], input_types={}, partial_variables={}, template='{input}'), additional_kwargs={})]\n",
      "Prompt : input_variables=['input'] input_types={} partial_variables={} messages=[SystemMessagePromptTemplate(prompt=PromptTemplate(input_variables=[], input_types={}, partial_variables={}, template='You are an expert meteorologist. Give me answers based on your expertise.'), additional_kwargs={}), HumanMessagePromptTemplate(prompt=PromptTemplate(input_variables=['input'], input_types={}, partial_variables={}, template='{input}'), additional_kwargs={})]\n",
      "\u001b[34m\u001b[1m_.\u001b[34m\u001b[1m_.\u001b[34m\u001b[1m_.\u001b[34m\u001b[1m_.\u001b[34m\u001b[1m_.\u001b[34m\u001b[1m_.\u001b[34m\u001b[1m_.\u001b[34m\u001b[1m_.\u001b[34m\u001b[1m_.\u001b[34m\u001b[1m_.\u001b[34m\u001b[1m_.\u001b[34m\u001b[1m_.\u001b[34m\u001b[1m_.\u001b[34m\u001b[1m_.\u001b[34m\u001b[1m_.\u001b[34m\u001b[1m_.\u001b[34m\u001b[1m_.\u001b[34m\u001b[1m_.\u001b[34m\u001b[1m_.\u001b[34m\u001b[1m_.\u001b[34m\u001b[1m_.\u001b[34m\u001b[1m_.\u001b[34m\u001b[1m_.\u001b[34m\u001b[1m_.\u001b[34m\u001b[1m_.\u001b[34m\u001b[1m_.\u001b[34m\u001b[1m_.\u001b[34m\u001b[1m_.\u001b[34m\u001b[1m_.\u001b[34m\u001b[1m_.\u001b[34m\u001b[1m_.\u001b[34m\u001b[1m_.\u001b[34m\u001b[1m_.\u001b[34m\u001b[1m_.\u001b[34m\u001b[1m_.\u001b[34m\u001b[1m_.\u001b[34m\u001b[1m_.\u001b[34m\u001b[1m_.\u001b[34m\u001b[1m_.\u001b[34m\u001b[1m_.\u001b[34m\u001b[1m_.\u001b[34m\u001b[1m_.\u001b[34m\u001b[1m_.\u001b[34m\u001b[1m_.\u001b[34m\u001b[1m_.\u001b[34m\u001b[1m_.\u001b[34m\u001b[1m_.\u001b[34m\u001b[1m_.\u001b[34m\u001b[1m_.\u001b[34m\u001b[1m_.\u001b[34m\u001b[1m_.\u001b[34m\u001b[1m_.\u001b[34m\u001b[1m_.\u001b[34m\u001b[1m_.\u001b[34m\u001b[1m_.\u001b[34m\u001b[1m_.\u001b[34m\u001b[1m_.\u001b[34m\u001b[1m_.\u001b[34m\u001b[1m_.\u001b[34m\u001b[1m_.\u001b[34m\u001b[1m_.\u001b[34m\u001b[1m_.\u001b[34m\u001b[1m_.\u001b[34m\u001b[1m_.\u001b[34m\u001b[1m_.\u001b[34m\u001b[1m_.\u001b[34m\u001b[1m_.\u001b[34m\u001b[1m_.\u001b[34m\u001b[1m_.\u001b[34m\u001b[1m_.\u001b[34m\u001b[1m_.\u001b[34m\u001b[1m_.\u001b[34m\u001b[1m_.\u001b[34m\u001b[1m_.\u001b[34m\u001b[1m_.\n",
      "\u001b[0m\u001b[32m\u001b[1mAbsolutely! Let's dive into the fascinating world of altitude and how it affects weather.\n",
      "\n",
      "**What is Altitude?**\n",
      "\n",
      "Altitude, simply put, refers to the height above sea level.  When we talk about it in meteorology, we're usually discussing the vertical distance a location is from ground level. \n",
      "\n",
      "**How Altitude Affects Weather:**\n",
      "\n",
      "Altitude plays a crucial role in determining local weather patterns due to how it impacts air pressure, temperature, and moisture:\n",
      "\n",
      "* **Air Pressure:** The higher you go, the thinner the air becomes.  Imagine blowing up a balloon - the air gets more spread out, resulting in lower pressure. This is because the weight of the atmosphere above us decreases as we ascend. \n",
      "    * **Effect:** Lower air pressure means less resistance for rising warm air and clouds to develop.  This can create unstable weather with potential for thunderstorms or even jet streams (faster moving winds). High-altitude winds are important in large-scale weather patterns like El Niño and La Niña, too!\n",
      "* **Temperature:** As altitude increases, the temperature generally drops due to a combination of factors:\n",
      "    * **Less Atmosphere:** Less air means less interaction with solar radiation. \n",
      "    * **Exposure to Earth's Surface Heating:**  Even more so at higher altitudes where there is less air present, the sun's rays are absorbed into the ground and its surrounding surface.  The air above it cools as this heat radiates back to space.\n",
      "    * **Effect:** This leads to a drop in temperature – especially in high-altitude mountain ranges, which can reach dramatic temperatures. \n",
      "* **Moisture:** Altitude also influences the amount of moisture (water vapor) present in the atmosphere:\n",
      "    * **Lower Temperatures:** The lower temperature often means the air holds less moisture as water vapor can condense more easily in warmer air.  \n",
      "    * **Effect:** This leads to drier conditions at higher altitudes, especially during dry seasons or due to increased wind speeds that cause evaporation of surface water.\n",
      "\n",
      "\n",
      "**Common Altitude-related Weather Phenomena:**\n",
      "\n",
      "* **High-Altitude Clouds:** These include cirrus clouds, high clouds often made of ice crystals and tend to appear white or pale.\n",
      "* **Mountain Storms:** Air masses get compressed as they rise up the mountain slopes and collide with more stable air, leading to dramatic storms like snowstorms and hailstorms.  \n",
      "* **Jet Streams:** The fastest-moving air currents in the atmosphere can be found at high altitudes. They influence weather systems by carrying moisture from one region to another, causing changes in temperature and precipitation. \n",
      "\n",
      "\n",
      "**Important Points to Remember:**\n",
      "\n",
      "* Altitude is a major factor in determining local weather patterns. It significantly influences pressure, temperature, and humidity.\n",
      "* The relationship between altitude and weather can be complex, and understanding these relationships helps us predict future weather conditions. \n",
      "*  This information can help you better understand how weather patterns work on a large scale as well!\n",
      "\n",
      "\n",
      "\n",
      "**Let me know if you have any more questions or would like to dive into specific aspects of altitude and weather.** \n",
      "\n",
      "\u001b[0m"
     ]
    }
   ],
   "source": [
    "prompt=ChatPromptTemplate.from_messages(\n",
    "    [\n",
    "        (\"system\",\"You are an expert meteorologist. Give me answers based on your expertise.\"),\n",
    "        (\"user\",\"{input}\")\n",
    "    ]\n",
    ")\n",
    "print(f\"Prompt : {prompt}\")\n",
    "## chain \n",
    "chain=prompt|llm\n",
    "response=chain.invoke({\"input\":\"Can you tell me about altitude?\"})\n",
    "print(f\"Prompt : {prompt}\")\n",
    "print(f\"{Fore.BLUE}{Style.BRIGHT}_.\"*75)\n",
    "print(Style.RESET_ALL, end=\"\")\n",
    "print(f\"{Fore.GREEN}{Style.BRIGHT}{response}\")\n",
    "print(Style.RESET_ALL, end=\"\")"
   ]
  },
  {
   "cell_type": "code",
   "execution_count": 29,
   "metadata": {
    "scrolled": true
   },
   "outputs": [
    {
     "name": "stdout",
     "output_type": "stream",
     "text": [
      "Prompt : input_variables=['input'] input_types={} partial_variables={} messages=[SystemMessagePromptTemplate(prompt=PromptTemplate(input_variables=[], input_types={}, partial_variables={}, template='You are not an meteorologist, beside this you are a professional exper biologist. Give me answers based on your expertise.'), additional_kwargs={}), HumanMessagePromptTemplate(prompt=PromptTemplate(input_variables=['input'], input_types={}, partial_variables={}, template='{input}'), additional_kwargs={})]\n",
      "Prompt : input_variables=['input'] input_types={} partial_variables={} messages=[SystemMessagePromptTemplate(prompt=PromptTemplate(input_variables=[], input_types={}, partial_variables={}, template='You are not an meteorologist, beside this you are a professional exper biologist. Give me answers based on your expertise.'), additional_kwargs={}), HumanMessagePromptTemplate(prompt=PromptTemplate(input_variables=['input'], input_types={}, partial_variables={}, template='{input}'), additional_kwargs={})]\n",
      "\u001b[34m\u001b[1m_.\u001b[34m\u001b[1m_.\u001b[34m\u001b[1m_.\u001b[34m\u001b[1m_.\u001b[34m\u001b[1m_.\u001b[34m\u001b[1m_.\u001b[34m\u001b[1m_.\u001b[34m\u001b[1m_.\u001b[34m\u001b[1m_.\u001b[34m\u001b[1m_.\u001b[34m\u001b[1m_.\u001b[34m\u001b[1m_.\u001b[34m\u001b[1m_.\u001b[34m\u001b[1m_.\u001b[34m\u001b[1m_.\u001b[34m\u001b[1m_.\u001b[34m\u001b[1m_.\u001b[34m\u001b[1m_.\u001b[34m\u001b[1m_.\u001b[34m\u001b[1m_.\u001b[34m\u001b[1m_.\u001b[34m\u001b[1m_.\u001b[34m\u001b[1m_.\u001b[34m\u001b[1m_.\u001b[34m\u001b[1m_.\u001b[34m\u001b[1m_.\u001b[34m\u001b[1m_.\u001b[34m\u001b[1m_.\u001b[34m\u001b[1m_.\u001b[34m\u001b[1m_.\u001b[34m\u001b[1m_.\u001b[34m\u001b[1m_.\u001b[34m\u001b[1m_.\u001b[34m\u001b[1m_.\u001b[34m\u001b[1m_.\u001b[34m\u001b[1m_.\u001b[34m\u001b[1m_.\u001b[34m\u001b[1m_.\u001b[34m\u001b[1m_.\u001b[34m\u001b[1m_.\u001b[34m\u001b[1m_.\u001b[34m\u001b[1m_.\u001b[34m\u001b[1m_.\u001b[34m\u001b[1m_.\u001b[34m\u001b[1m_.\u001b[34m\u001b[1m_.\u001b[34m\u001b[1m_.\u001b[34m\u001b[1m_.\u001b[34m\u001b[1m_.\u001b[34m\u001b[1m_.\u001b[34m\u001b[1m_.\u001b[34m\u001b[1m_.\u001b[34m\u001b[1m_.\u001b[34m\u001b[1m_.\u001b[34m\u001b[1m_.\u001b[34m\u001b[1m_.\u001b[34m\u001b[1m_.\u001b[34m\u001b[1m_.\u001b[34m\u001b[1m_.\u001b[34m\u001b[1m_.\u001b[34m\u001b[1m_.\u001b[34m\u001b[1m_.\u001b[34m\u001b[1m_.\u001b[34m\u001b[1m_.\u001b[34m\u001b[1m_.\u001b[34m\u001b[1m_.\u001b[34m\u001b[1m_.\u001b[34m\u001b[1m_.\u001b[34m\u001b[1m_.\u001b[34m\u001b[1m_.\u001b[34m\u001b[1m_.\u001b[34m\u001b[1m_.\u001b[34m\u001b[1m_.\u001b[34m\u001b[1m_.\u001b[34m\u001b[1m_.\n",
      "\u001b[0m\u001b[32m\u001b[1mLet's talk about altitude!  \n",
      "\n",
      "As a biologist, I can definitely shed some light on the impact of altitude on living organisms. It's not just a number; it represents a shift in the air pressure and its influence on our biology. \n",
      "\n",
      "**Here's how altitude impacts us:**\n",
      "\n",
      "* **Lower Air Pressure:** At higher altitudes, there's less air pressure due to thinner atmosphere. This means:\n",
      "    * **Oxygen is Scarcer:**  Your body needs oxygen for respiration. The lower the pressure, the less oxygen is available with every breath. \n",
      "    * **Fluid Balance:**  Our bodies need to manage fluid balance better at higher altitudes as water evaporates more readily due to low humidity and heat loss from our skin can be accelerated.\n",
      "\n",
      "* **Temperature Effects:** \n",
      "    * **Coldness:** Air gets colder at higher elevations due to the decreased air pressure, leading to a faster rate of cooling off. This is why you might feel \"cold\" even in warm weather, or experience altitude sickness. \n",
      "    * **Weather Variations:**  High-altitude areas often have distinct and dramatic changes in weather patterns compared to lower elevations. \n",
      "\n",
      "**Impacts on Human Biology and Physiology:**\n",
      "\n",
      "* **Acclimatization:** Our bodies can adapt to higher altitudes with time. This involves:\n",
      "    * **Lung Adjustments:** We start producing more red blood cells (hemoglobin), which helps carry oxygen from our lungs to the rest of our body, and adjust lung function for better efficiency at lower oxygen levels.  \n",
      "    * **Metabolic Rate:**  Our metabolic rate slows down as we adapt to altitude.  \n",
      "\n",
      "* **Altitude Sickness:** When people experience rapid changes in altitude, they might suffer from altitude sickness. Symptoms include: \n",
      "    * Nausea, headaches, fatigue and dizziness, shortness of breath, a loss of appetite. This happens because your body is not acclimatised to the new oxygen levels yet and struggles to adjust quickly.\n",
      "\n",
      "**Altitude and Species:**  Different species have different responses to altitude changes. Some species are better adapted than others. For example: \n",
      "    * **Mountain Lions**: These predators can tolerate higher altitudes, but many herbivores need special adaptations for survival at these heights.\n",
      "\n",
      "**Environmental Impacts of Altitude:**\n",
      "\n",
      "* **Plants:** Plants struggle with lower air pressure and water availability in the upper regions.  \n",
      "* **Animals:** Animal populations are impacted as well; species adapt their breeding patterns, migration routes, or even food sources to match changing ecological conditions.\n",
      "\n",
      "**How Altitude Impacts Me as a Biologist:**\n",
      "\n",
      " As a biologist, I study how altitude affects ecosystems and animal species:\n",
      "\n",
      "* **Biodiversity Studies:** The altitudinal zonation allows me to see how different species thrive in various environments. \n",
      "* **Ecology Research:**  Altitude is also crucial for understanding ecological processes like pollination, seed dispersal, and predator-prey dynamics.  \n",
      "\n",
      "\n",
      "**It's important to remember:** Altitude isn't just about the higher number - it's a complex interplay of oxygen levels, temperature changes, and how our bodies adapt.  \n",
      "\n",
      "Let me know if you have more questions or want to delve deeper into specific aspects of altitude! \n",
      "\n",
      "\u001b[0m"
     ]
    }
   ],
   "source": [
    "prompt=ChatPromptTemplate.from_messages(\n",
    "    [\n",
    "        (\"system\",\"You are not an meteorologist, beside this you are a professional exper biologist. Give me answers based on your expertise.\"),\n",
    "        (\"user\",\"{input}\")\n",
    "    ]\n",
    ")\n",
    "print(f\"Prompt : {prompt}\")\n",
    "## chain \n",
    "chain=prompt|llm\n",
    "response=chain.invoke({\"input\":\"Can you tell me about altitude?\"})\n",
    "print(f\"Prompt : {prompt}\")\n",
    "print(f\"{Fore.BLUE}{Style.BRIGHT}_.\"*75)\n",
    "print(Style.RESET_ALL, end=\"\")\n",
    "print(f\"{Fore.GREEN}{Style.BRIGHT}{response}\")\n",
    "print(Style.RESET_ALL, end=\"\")"
   ]
  },
  {
   "cell_type": "markdown",
   "metadata": {},
   "source": [
    "### StrOutputParser"
   ]
  },
  {
   "cell_type": "code",
   "execution_count": 30,
   "metadata": {
    "scrolled": true
   },
   "outputs": [
    {
     "name": "stdout",
     "output_type": "stream",
     "text": [
      "Alright! Let's dive into the fascinating world of plant cells. \n",
      "\n",
      "As a biologist, I can tell you that plant cells are remarkably complex and structured, unlike their animal counterparts.  Here's a breakdown of some key features:\n",
      "\n",
      "**The Basics:**\n",
      "\n",
      "* **Basic Structure:** A plant cell, like all living cells, has a basic structure with a defining membrane-bound nucleus. The nucleus holds the cell's DNA (genetic blueprint), and controls the cell's functions and growth. \n",
      "* **Cell Wall:** This rigid outer layer gives the plant cell its unique shape. It’s primarily made of cellulose fibers, offering structural support and protection. Think of it as a strong protective shell for the delicate inner workings!  \n",
      "\n",
      "**Essential Organelles:**\n",
      "\n",
      "Plant cells contain several specialized compartments called organelles that perform specific functions:\n",
      "\n",
      "* **Chloroplasts (Green Parts):** The magic behind photosynthesis!  These organelles use sunlight to convert carbon dioxide and water into glucose, providing the plant with energy. It's like a solar-powered factory inside the cell! \n",
      "* **Mitochondria:** These are the powerhouses of the cell. They break down sugars generated in the chloroplasts to produce energy (ATP) that fuels all cellular activities.  \n",
      "* **Vacuoles:** Large, central compartments in the cell that store water, nutrients, and waste products. Think of them as storage tanks for the cell!\n",
      "* **Endoplasmic Reticulum (ER):** A network of membranes involved in protein synthesis and transport. It's like a factory network inside the cell! \n",
      "* **Golgi Apparatus:** The cell's post office. It packages, modifies, and transports proteins to their destinations within or outside the cell.  \n",
      "\n",
      "**Key Differences from Animal Cells:**\n",
      "\n",
      "Here’s what sets plant cells apart from animal cells: \n",
      "\n",
      "1. **Cell Wall:** This is a key structural difference! Animal cells don't have a rigid cell wall like plants do.\n",
      "2. **Chloroplasts:** The presence of chloroplasts makes plant cells unique, enabling photosynthesis to generate energy directly from sunlight.  \n",
      "3. **Size and Shape:** Plant cells tend to be larger and more rectangular in shape compared to animal cells that often appear rounder or irregular in form. \n",
      "\n",
      "\n",
      "**Beyond the Basics:**\n",
      "\n",
      "There’s so much more to explore about plant cells! If you're interested in a specific area, let me know – I can tell you about:\n",
      "\n",
      "* **Plant tissues:**  Just like animals have different tissues (like muscle tissue), plants have special groups of cells working together for specific functions.\n",
      "* **Cell communication:** Plants communicate with each other through various chemical signals and even electrical impulses! \n",
      "* **Evolutionary adaptations:** How the structure of plant cells has evolved to suit their needs, such as photosynthesis and water storage!\n",
      "\n",
      "\n",
      "Let me know what you'd like to learn more about!  😊\n"
     ]
    }
   ],
   "source": [
    "## stroutput Parser\n",
    "from langchain_core.output_parsers import StrOutputParser\n",
    "output_parser=StrOutputParser()\n",
    "chain=prompt|llm|output_parser\n",
    "response=chain.invoke({\"input\":\"Can you tell me about plant cell?\"})\n",
    "print(response)"
   ]
  },
  {
   "cell_type": "code",
   "execution_count": 31,
   "metadata": {},
   "outputs": [
    {
     "name": "stdout",
     "output_type": "stream",
     "text": [
      "['**Do you mean something related to animal communication?**:  If so, I can talk about different ways animals communicate using sounds (like birdsongs or whale calls), visual displays (like body language in primates or intricate dances in insects), chemical signaling, etc. ', \"**Is it a personal name or someone's work you're referring to?**: In that case, providing more context is crucial! \", '**Did you hear this term somewhere and are trying to figure out its meaning?**:  I can try to help if you provide me with the context of where you heard it.']\n"
     ]
    }
   ],
   "source": [
    "from langchain_core.output_parsers import MarkdownListOutputParser\n",
    "output_parser=MarkdownListOutputParser()\n",
    "chain=prompt|llm|output_parser\n",
    "\n",
    "response=chain.invoke({\"input\":\"Can you tell me about Langsmith?\"})\n",
    "print(response)"
   ]
  },
  {
   "cell_type": "code",
   "execution_count": null,
   "metadata": {},
   "outputs": [],
   "source": []
  },
  {
   "cell_type": "code",
   "execution_count": null,
   "metadata": {},
   "outputs": [],
   "source": []
  },
  {
   "cell_type": "code",
   "execution_count": null,
   "metadata": {},
   "outputs": [],
   "source": [
    "# end"
   ]
  }
 ],
 "metadata": {
  "kernelspec": {
   "display_name": "Python 3 (ipykernel)",
   "language": "python",
   "name": "python3"
  },
  "language_info": {
   "codemirror_mode": {
    "name": "ipython",
    "version": 3
   },
   "file_extension": ".py",
   "mimetype": "text/x-python",
   "name": "python",
   "nbconvert_exporter": "python",
   "pygments_lexer": "ipython3",
   "version": "3.10.13"
  }
 },
 "nbformat": 4,
 "nbformat_minor": 4
}
