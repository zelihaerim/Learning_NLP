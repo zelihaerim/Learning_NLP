{
 "cells": [
  {
   "cell_type": "markdown",
   "metadata": {},
   "source": [
    "#### Getting started With Langchain And Ollma\n",
    "\n",
    "In this quickstart we'll see how to:\n",
    "\n",
    "- Get setup with LangChain, LangSmith and LangServe\n",
    "- Use the most basic and common components of LangChain: prompt templates, models, and output parsers.\n",
    "- Build a simple application with LangChain\n",
    "- Trace your application with LangSmith\n",
    "- Serve your application with LangServe"
   ]
  },
  {
   "cell_type": "code",
   "execution_count": 2,
   "metadata": {},
   "outputs": [],
   "source": [
    "!pip install langchain_community -q"
   ]
  },
  {
   "cell_type": "code",
   "execution_count": 10,
   "metadata": {},
   "outputs": [],
   "source": [
    "!pip install colorama -q"
   ]
  },
  {
   "cell_type": "code",
   "execution_count": 11,
   "metadata": {},
   "outputs": [],
   "source": [
    "from colorama import Fore, Style"
   ]
  },
  {
   "cell_type": "code",
   "execution_count": null,
   "metadata": {},
   "outputs": [],
   "source": [
    "from langchain_community.llms import Ollama\n",
    "from langchain_community.chat_models import ChatOllama\n",
    "from langchain_core.output_parsers import StrOutputParser\n",
    "from langchain_core.prompts import ChatPromptTemplate"
   ]
  },
  {
   "cell_type": "markdown",
   "metadata": {},
   "source": [
    "### Ollama"
   ]
  },
  {
   "cell_type": "code",
   "execution_count": 4,
   "metadata": {},
   "outputs": [],
   "source": [
    "llm = Ollama(model=\"gemma2:2b\")\n",
    "# llm = ChatOllama(model=\"llama3\", format=\"json\", temperature=0)\n",
    "# llm.invoke(\"Why is the sky blue?\") # example usage"
   ]
  },
  {
   "cell_type": "code",
   "execution_count": 5,
   "metadata": {},
   "outputs": [],
   "source": [
    "## Input and get response form LLM\n",
    "result=llm.invoke(\"What is generative AI?\")"
   ]
  },
  {
   "cell_type": "code",
   "execution_count": 6,
   "metadata": {
    "scrolled": true
   },
   "outputs": [
    {
     "name": "stdout",
     "output_type": "stream",
     "text": [
      "Generative AI, in simple terms, is a type of artificial intelligence that can create new content.  \n",
      "\n",
      "Here's a breakdown:\n",
      "\n",
      "**What it does:**\n",
      "\n",
      "* **Imagines:** Generative AI systems use algorithms and vast datasets to learn patterns and relationships within data (like images, text, or audio).\n",
      "* **Creates:** Based on this learning, these models can generate original output in different forms like:\n",
      "    * Text: poems, code, scripts, summaries \n",
      "    * Images: paintings, photorealistic scenes, abstract art \n",
      "    * Audio: music, speech, sound effects\n",
      "    * Video: animations, short clips, realistic footage (with some limitations)\n",
      "\n",
      "**How it works:**\n",
      "\n",
      "1. **Training:** Generative AI models are trained using massive datasets of existing content. This allows them to learn the underlying structure and patterns. \n",
      "2. **Prompting:** Once trained, users can provide a prompt or input – like a text description of an image they want created.\n",
      "3. **Generation:** The model uses its learned knowledge to generate something new based on that prompt. \n",
      "\n",
      "**Examples of Generative AI in action:**\n",
      "\n",
      "* **ChatGPT:** Generates human-like text and answers questions, writes poems and stories, translates languages. \n",
      "* **DALL-E 2:** Creates realistic images from natural language descriptions (\"a cat riding a unicorn through the rainbow\").\n",
      "* **Stable Diffusion:** An open-source image generation tool that produces various art styles.\n",
      "\n",
      "**Benefits of Generative AI:**\n",
      "\n",
      "* **Creative potential:** Opens doors to new forms of artistic expression and content creation. \n",
      "* **Productivity gains:** Can automate tasks like writing, design, and coding, freeing up human creativity for other pursuits.\n",
      "* **Innovation:** Enables exploration of previously impossible ideas and concepts.\n",
      "\n",
      "\n",
      "**Challenges of Generative AI:**\n",
      "\n",
      "* **Misinformation concerns:** The potential for creating fake content raises ethical questions and challenges in verifying its authenticity. \n",
      "* **Bias issues:** Models can reflect biases present in training data, which needs to be addressed with careful attention and development of robust algorithms.  \n",
      "* **Job displacement:** Concerns about automation affecting certain professions are valid. However, it's more likely to change how jobs are performed than fully replace them.\n",
      "\n",
      "\n",
      "\n",
      "**In a nutshell,** Generative AI is rapidly changing the way we create content and explore possibilities in various fields. As technology continues to evolve, it promises exciting advancements for art, entertainment, research, and beyond. \n",
      "\n"
     ]
    }
   ],
   "source": [
    "print(result)"
   ]
  },
  {
   "cell_type": "markdown",
   "metadata": {},
   "source": [
    "### ChatPromptTemplate"
   ]
  },
  {
   "cell_type": "markdown",
   "metadata": {},
   "source": [
    "#### From template"
   ]
  },
  {
   "cell_type": "code",
   "execution_count": 22,
   "metadata": {},
   "outputs": [
    {
     "name": "stdout",
     "output_type": "stream",
     "text": [
      "Why don't astronauts ever get lost in space?  \n",
      "\n",
      "Because they always have their GPS coordinates! 🚀 🌌 😂  \n",
      "\n"
     ]
    }
   ],
   "source": [
    "prompt = ChatPromptTemplate.from_template(\"Tell me a short joke about {topic}\")\n",
    "\n",
    "chain = prompt | llm | StrOutputParser()\n",
    "print(chain.invoke({\"topic\": \"Space travel\"}))"
   ]
  },
  {
   "cell_type": "code",
   "execution_count": 24,
   "metadata": {},
   "outputs": [
    {
     "name": "stdout",
     "output_type": "stream",
     "text": [
      "Here's a common superstition about black cats:\n",
      "\n",
      "**The Black Cat and Bad Luck:**  Many cultures believe that seeing a black cat crossing your path is an omen of bad luck. \n",
      "\n",
      "This belief likely stems from the idea of witchcraft in the past, where black cats were associated with witches and their powers due to historical depictions and stories.  \n",
      "\n",
      "However, it's important to remember that superstitions are just beliefs and often hold no actual truth. \n",
      "\n"
     ]
    }
   ],
   "source": [
    "prompt = ChatPromptTemplate.from_template(\"Tell me a superstition about {topic}\")\n",
    "\n",
    "chain = prompt | llm | StrOutputParser()\n",
    "print(chain.invoke({\"topic\": \"black cat\"}))"
   ]
  },
  {
   "cell_type": "code",
   "execution_count": 25,
   "metadata": {},
   "outputs": [
    {
     "name": "stdout",
     "output_type": "stream",
     "text": [
      "One of the most popular superstitions surrounding the number thirteen is that it's **unlucky**.  This belief stems from its connection to the **\"Black Death\"**, which wiped out a third of Europe's population in the mid-14th century.  \n",
      "\n",
      "Here's why this connection persists:\n",
      "\n",
      "* **The 13th Day:**  During the plague, people often avoided traveling or celebrating on the 13th day for fear it brought bad luck and misfortune.\n",
      "* **Ancient Origins:** The number thirteen has been associated with negative things in various cultures throughout history, particularly in Europe and Asia. \n",
      "\n",
      "However, keep in mind: \n",
      "* These superstitions are just that - **superstitions**.  They hold no scientific validity! \n",
      "* Many people see this number as a source of good luck and inspiration instead of fear.  \n",
      "\n",
      "\n",
      "Do you want to know about any other superstitions? 😊 \n",
      "\n"
     ]
    }
   ],
   "source": [
    "print(chain.invoke({\"topic\": \"number 13\"}))"
   ]
  },
  {
   "cell_type": "markdown",
   "metadata": {},
   "source": [
    "#### From messages"
   ]
  },
  {
   "cell_type": "code",
   "execution_count": 15,
   "metadata": {
    "scrolled": true
   },
   "outputs": [
    {
     "name": "stdout",
     "output_type": "stream",
     "text": [
      "Prompt : input_variables=['input'] input_types={} partial_variables={} messages=[SystemMessagePromptTemplate(prompt=PromptTemplate(input_variables=[], input_types={}, partial_variables={}, template='You are an expert AI Engineer. Provide me answers based on the questions'), additional_kwargs={}), HumanMessagePromptTemplate(prompt=PromptTemplate(input_variables=['input'], input_types={}, partial_variables={}, template='{input}'), additional_kwargs={})]\n",
      "\u001b[34m\u001b[1m_.\u001b[34m\u001b[1m_.\u001b[34m\u001b[1m_.\u001b[34m\u001b[1m_.\u001b[34m\u001b[1m_.\u001b[34m\u001b[1m_.\u001b[34m\u001b[1m_.\u001b[34m\u001b[1m_.\u001b[34m\u001b[1m_.\u001b[34m\u001b[1m_.\u001b[34m\u001b[1m_.\u001b[34m\u001b[1m_.\u001b[34m\u001b[1m_.\u001b[34m\u001b[1m_.\u001b[34m\u001b[1m_.\u001b[34m\u001b[1m_.\u001b[34m\u001b[1m_.\u001b[34m\u001b[1m_.\u001b[34m\u001b[1m_.\u001b[34m\u001b[1m_.\u001b[34m\u001b[1m_.\u001b[34m\u001b[1m_.\u001b[34m\u001b[1m_.\u001b[34m\u001b[1m_.\u001b[34m\u001b[1m_.\u001b[34m\u001b[1m_.\u001b[34m\u001b[1m_.\u001b[34m\u001b[1m_.\u001b[34m\u001b[1m_.\u001b[34m\u001b[1m_.\u001b[34m\u001b[1m_.\u001b[34m\u001b[1m_.\u001b[34m\u001b[1m_.\u001b[34m\u001b[1m_.\u001b[34m\u001b[1m_.\u001b[34m\u001b[1m_.\u001b[34m\u001b[1m_.\u001b[34m\u001b[1m_.\u001b[34m\u001b[1m_.\u001b[34m\u001b[1m_.\u001b[34m\u001b[1m_.\u001b[34m\u001b[1m_.\u001b[34m\u001b[1m_.\u001b[34m\u001b[1m_.\u001b[34m\u001b[1m_.\u001b[34m\u001b[1m_.\u001b[34m\u001b[1m_.\u001b[34m\u001b[1m_.\u001b[34m\u001b[1m_.\u001b[34m\u001b[1m_.\u001b[34m\u001b[1m_.\u001b[34m\u001b[1m_.\u001b[34m\u001b[1m_.\u001b[34m\u001b[1m_.\u001b[34m\u001b[1m_.\u001b[34m\u001b[1m_.\u001b[34m\u001b[1m_.\u001b[34m\u001b[1m_.\u001b[34m\u001b[1m_.\u001b[34m\u001b[1m_.\u001b[34m\u001b[1m_.\u001b[34m\u001b[1m_.\u001b[34m\u001b[1m_.\u001b[34m\u001b[1m_.\u001b[34m\u001b[1m_.\u001b[34m\u001b[1m_.\u001b[34m\u001b[1m_.\u001b[34m\u001b[1m_.\u001b[34m\u001b[1m_.\u001b[34m\u001b[1m_.\u001b[34m\u001b[1m_.\u001b[34m\u001b[1m_.\u001b[34m\u001b[1m_.\u001b[34m\u001b[1m_.\u001b[34m\u001b[1m_.\n",
      "\u001b[0m\u001b[35m\u001b[1mLet's dive into Langsmith! \n",
      "\n",
      "**What is Langsmith?**\n",
      "\n",
      "Langsmith is a **powerful open-source tool for creating and managing your large language model (LLM) projects**.  Think of it as the ultimate toolkit for anyone working with LLMs, from beginners to experts.  It provides a streamlined workflow for everything from training and fine-tuning models to deploying them in real-world applications.\n",
      "\n",
      "**Key Features:**\n",
      "\n",
      "* **Simplified Model Management:** Langsmith streamlines the entire LLM lifecycle:\n",
      "    * **Model Training:** Efficiently trains your models using various frameworks (Hugging Face Transformers, PyTorch, TensorFlow).\n",
      "    * **Fine-Tuning:** Easily adapt pre-trained models for specific tasks and datasets.\n",
      "    * **Experiment Tracking:** Log and track experiment results to optimize performance and explore new approaches. \n",
      "* **Effortless Deployment:**  Langsmith simplifies deploying your trained models:\n",
      "    * **API Endpoints:** Create robust APIs to make your model accessible through a simple interface.\n",
      "    * **Cloud Integration:** Seamlessly integrate your models into cloud environments like Google Cloud or AWS.\n",
      "* **User-Friendly Interface:** Langsmith offers an intuitive web UI for interacting with your models: \n",
      "   * **Command Line (CLI) Control:**  Manage models, run experiments, and deploy quickly from the command line.\n",
      "\n",
      "**Benefits of Using Langsmith:**\n",
      "\n",
      "* **Increased Efficiency:** Save valuable time and effort by automating common LLM workflows.\n",
      "* **Faster Development:** Quickly build and iterate on your projects with a comprehensive toolkit at your fingertips. \n",
      "* **Improved Model Performance:** Get insights into your models' strengths and weaknesses through experiment tracking and analysis.\n",
      "* **Reduced Risk:** Ensure reproducibility of experiments and model deployments with Langsmith's robust logging features.\n",
      "\n",
      "**Who Benefits from Langsmith?**\n",
      "\n",
      "Langsmith is a valuable tool for a wide range of professionals, including:\n",
      "\n",
      "* **Data Scientists & ML Engineers:**  Develop and deploy custom LLM applications.\n",
      "* **Researchers & Innovators:** Experiment with new ideas and model architectures.\n",
      "* **Product Managers & Developers:** Design and build AI-powered products and solutions.\n",
      "\n",
      "\n",
      "**How to get started:**\n",
      " \n",
      " You can explore Langsmith's capabilities through its official website: [https://langsmith.io/](https://langsmith.io/)  You'll find documentation, tutorials, a guide to getting started, as well as the ability to experiment with Langsmith's demos!\n",
      "\n",
      "**Let me know if you have any more questions about Langsmith or LLMs in general.** \n",
      "\n",
      "\u001b[0m"
     ]
    }
   ],
   "source": [
    "### Chatprompt Template\n",
    "prompt=ChatPromptTemplate.from_messages(\n",
    "    [\n",
    "        (\"system\",\"You are an expert AI Engineer. Provide me answers based on the questions\"),\n",
    "        (\"user\",\"{input}\")\n",
    "    ]\n",
    ")\n",
    "print(f\"Prompt : {prompt}\")\n",
    "## chain \n",
    "chain=prompt|llm\n",
    "response=chain.invoke({\"input\":\"Can you tell me about Langsmith?\"})\n",
    "print(f\"Prompt : {prompt}\")\n",
    "print(f\"{Fore.BLUE}{Style.BRIGHT}_.\"*75)\n",
    "print(Style.RESET_ALL, end=\"\")\n",
    "print(f\"{Fore.MAGENTA}{Style.BRIGHT}{response}\")\n",
    "print(Style.RESET_ALL, end=\"\")"
   ]
  },
  {
   "cell_type": "code",
   "execution_count": 26,
   "metadata": {
    "scrolled": true
   },
   "outputs": [
    {
     "name": "stdout",
     "output_type": "stream",
     "text": [
      "Prompt : input_variables=['input'] input_types={} partial_variables={} messages=[SystemMessagePromptTemplate(prompt=PromptTemplate(input_variables=[], input_types={}, partial_variables={}, template='You are an expert astronomer. Give me answers based on your expertise.'), additional_kwargs={}), HumanMessagePromptTemplate(prompt=PromptTemplate(input_variables=['input'], input_types={}, partial_variables={}, template='{input}'), additional_kwargs={})]\n",
      "Prompt : input_variables=['input'] input_types={} partial_variables={} messages=[SystemMessagePromptTemplate(prompt=PromptTemplate(input_variables=[], input_types={}, partial_variables={}, template='You are an expert astronomer. Give me answers based on your expertise.'), additional_kwargs={}), HumanMessagePromptTemplate(prompt=PromptTemplate(input_variables=['input'], input_types={}, partial_variables={}, template='{input}'), additional_kwargs={})]\n",
      "\u001b[34m\u001b[1m_.\u001b[34m\u001b[1m_.\u001b[34m\u001b[1m_.\u001b[34m\u001b[1m_.\u001b[34m\u001b[1m_.\u001b[34m\u001b[1m_.\u001b[34m\u001b[1m_.\u001b[34m\u001b[1m_.\u001b[34m\u001b[1m_.\u001b[34m\u001b[1m_.\u001b[34m\u001b[1m_.\u001b[34m\u001b[1m_.\u001b[34m\u001b[1m_.\u001b[34m\u001b[1m_.\u001b[34m\u001b[1m_.\u001b[34m\u001b[1m_.\u001b[34m\u001b[1m_.\u001b[34m\u001b[1m_.\u001b[34m\u001b[1m_.\u001b[34m\u001b[1m_.\u001b[34m\u001b[1m_.\u001b[34m\u001b[1m_.\u001b[34m\u001b[1m_.\u001b[34m\u001b[1m_.\u001b[34m\u001b[1m_.\u001b[34m\u001b[1m_.\u001b[34m\u001b[1m_.\u001b[34m\u001b[1m_.\u001b[34m\u001b[1m_.\u001b[34m\u001b[1m_.\u001b[34m\u001b[1m_.\u001b[34m\u001b[1m_.\u001b[34m\u001b[1m_.\u001b[34m\u001b[1m_.\u001b[34m\u001b[1m_.\u001b[34m\u001b[1m_.\u001b[34m\u001b[1m_.\u001b[34m\u001b[1m_.\u001b[34m\u001b[1m_.\u001b[34m\u001b[1m_.\u001b[34m\u001b[1m_.\u001b[34m\u001b[1m_.\u001b[34m\u001b[1m_.\u001b[34m\u001b[1m_.\u001b[34m\u001b[1m_.\u001b[34m\u001b[1m_.\u001b[34m\u001b[1m_.\u001b[34m\u001b[1m_.\u001b[34m\u001b[1m_.\u001b[34m\u001b[1m_.\u001b[34m\u001b[1m_.\u001b[34m\u001b[1m_.\u001b[34m\u001b[1m_.\u001b[34m\u001b[1m_.\u001b[34m\u001b[1m_.\u001b[34m\u001b[1m_.\u001b[34m\u001b[1m_.\u001b[34m\u001b[1m_.\u001b[34m\u001b[1m_.\u001b[34m\u001b[1m_.\u001b[34m\u001b[1m_.\u001b[34m\u001b[1m_.\u001b[34m\u001b[1m_.\u001b[34m\u001b[1m_.\u001b[34m\u001b[1m_.\u001b[34m\u001b[1m_.\u001b[34m\u001b[1m_.\u001b[34m\u001b[1m_.\u001b[34m\u001b[1m_.\u001b[34m\u001b[1m_.\u001b[34m\u001b[1m_.\u001b[34m\u001b[1m_.\u001b[34m\u001b[1m_.\u001b[34m\u001b[1m_.\u001b[34m\u001b[1m_.\n",
      "\u001b[0m\u001b[35m\u001b[1mAh, Jupiter! A true behemoth in our solar system. Let's delve into what makes this giant so fascinating. \n",
      "\n",
      "**Here's a glimpse of Jupiter:**\n",
      "\n",
      "* **Size:**  It's the largest planet in our Solar System, nearly 11 times as massive as Earth and about 2.5 times wider than all the other planets combined! That means it holds over 1,300 Earths within its diameter alone.\n",
      "* **Composition:** It's a gas giant dominated by hydrogen and helium, with swirling clouds of ammonia, water, and methane ice covering its surface.\n",
      "* **The Great Red Spot:** Perhaps its most iconic feature is the Great Red Spot - a massive storm larger than Earth itself that has raged for centuries! \n",
      "* **Moons:** Jupiter boasts 79 confirmed moons, including Io (volcanic!), Europa (ice-covered with potential for life), and Ganymede (the largest moon in our solar system!).  These moons provide invaluable insight into the formation and evolution of planetary systems.\n",
      "* **Magnetic Field:**  Jupiter's magnetic field is one of the most powerful in the Solar System, 20 times stronger than Earth's. This creates a dazzling auroral display that emits particles from its magnetic field lines.\n",
      "\n",
      "**Why is Jupiter so interesting?**\n",
      "\n",
      "1. **Understanding Gas Giant Formation:** Studying Jupiter helps us understand how gas giants like it form and evolve.  \n",
      "2. **Potential for Life:** The icy moons of Jupiter, such as Europa, have intriguing possibilities for potential life due to the presence of liquid water beneath their surfaces. \n",
      "3. **Astrophysical Research:** Observing Jupiter's atmosphere allows us to study the behavior of clouds, storms, and planetary magnetism on a scale we can only dream of exploring closer to home!\n",
      "\n",
      "**Want to learn more?**  I could tell you about:\n",
      "\n",
      "* **Jupiter’s moons in detail (like Europa, Io, Ganymede etc.)**\n",
      "* **The history of exploration of Jupiter (Voyagers 1 and 2)** \n",
      "* **Current scientific investigations on Jupiter**\n",
      "\n",
      "\n",
      "Just let me know what piques your curiosity.  We can explore this giant even further! 😊 \n",
      "\n",
      "\u001b[0m"
     ]
    }
   ],
   "source": [
    "prompt=ChatPromptTemplate.from_messages(\n",
    "    [\n",
    "        (\"system\",\"You are an expert astronomer. Give me answers based on your expertise.\"),\n",
    "        (\"user\",\"{input}\")\n",
    "    ]\n",
    ")\n",
    "print(f\"Prompt : {prompt}\")\n",
    "## chain \n",
    "chain=prompt|llm\n",
    "response=chain.invoke({\"input\":\"Can you tell me about Jupiter?\"})\n",
    "print(f\"Prompt : {prompt}\")\n",
    "print(f\"{Fore.BLUE}{Style.BRIGHT}_.\"*75)\n",
    "print(Style.RESET_ALL, end=\"\")\n",
    "print(f\"{Fore.MAGENTA}{Style.BRIGHT}{response}\")\n",
    "print(Style.RESET_ALL, end=\"\")"
   ]
  },
  {
   "cell_type": "code",
   "execution_count": 28,
   "metadata": {
    "scrolled": true
   },
   "outputs": [
    {
     "name": "stdout",
     "output_type": "stream",
     "text": [
      "Prompt : input_variables=['input'] input_types={} partial_variables={} messages=[SystemMessagePromptTemplate(prompt=PromptTemplate(input_variables=[], input_types={}, partial_variables={}, template='You are an expert meteorologist. Give me answers based on your expertise.'), additional_kwargs={}), HumanMessagePromptTemplate(prompt=PromptTemplate(input_variables=['input'], input_types={}, partial_variables={}, template='{input}'), additional_kwargs={})]\n",
      "Prompt : input_variables=['input'] input_types={} partial_variables={} messages=[SystemMessagePromptTemplate(prompt=PromptTemplate(input_variables=[], input_types={}, partial_variables={}, template='You are an expert meteorologist. Give me answers based on your expertise.'), additional_kwargs={}), HumanMessagePromptTemplate(prompt=PromptTemplate(input_variables=['input'], input_types={}, partial_variables={}, template='{input}'), additional_kwargs={})]\n",
      "\u001b[34m\u001b[1m_.\u001b[34m\u001b[1m_.\u001b[34m\u001b[1m_.\u001b[34m\u001b[1m_.\u001b[34m\u001b[1m_.\u001b[34m\u001b[1m_.\u001b[34m\u001b[1m_.\u001b[34m\u001b[1m_.\u001b[34m\u001b[1m_.\u001b[34m\u001b[1m_.\u001b[34m\u001b[1m_.\u001b[34m\u001b[1m_.\u001b[34m\u001b[1m_.\u001b[34m\u001b[1m_.\u001b[34m\u001b[1m_.\u001b[34m\u001b[1m_.\u001b[34m\u001b[1m_.\u001b[34m\u001b[1m_.\u001b[34m\u001b[1m_.\u001b[34m\u001b[1m_.\u001b[34m\u001b[1m_.\u001b[34m\u001b[1m_.\u001b[34m\u001b[1m_.\u001b[34m\u001b[1m_.\u001b[34m\u001b[1m_.\u001b[34m\u001b[1m_.\u001b[34m\u001b[1m_.\u001b[34m\u001b[1m_.\u001b[34m\u001b[1m_.\u001b[34m\u001b[1m_.\u001b[34m\u001b[1m_.\u001b[34m\u001b[1m_.\u001b[34m\u001b[1m_.\u001b[34m\u001b[1m_.\u001b[34m\u001b[1m_.\u001b[34m\u001b[1m_.\u001b[34m\u001b[1m_.\u001b[34m\u001b[1m_.\u001b[34m\u001b[1m_.\u001b[34m\u001b[1m_.\u001b[34m\u001b[1m_.\u001b[34m\u001b[1m_.\u001b[34m\u001b[1m_.\u001b[34m\u001b[1m_.\u001b[34m\u001b[1m_.\u001b[34m\u001b[1m_.\u001b[34m\u001b[1m_.\u001b[34m\u001b[1m_.\u001b[34m\u001b[1m_.\u001b[34m\u001b[1m_.\u001b[34m\u001b[1m_.\u001b[34m\u001b[1m_.\u001b[34m\u001b[1m_.\u001b[34m\u001b[1m_.\u001b[34m\u001b[1m_.\u001b[34m\u001b[1m_.\u001b[34m\u001b[1m_.\u001b[34m\u001b[1m_.\u001b[34m\u001b[1m_.\u001b[34m\u001b[1m_.\u001b[34m\u001b[1m_.\u001b[34m\u001b[1m_.\u001b[34m\u001b[1m_.\u001b[34m\u001b[1m_.\u001b[34m\u001b[1m_.\u001b[34m\u001b[1m_.\u001b[34m\u001b[1m_.\u001b[34m\u001b[1m_.\u001b[34m\u001b[1m_.\u001b[34m\u001b[1m_.\u001b[34m\u001b[1m_.\u001b[34m\u001b[1m_.\u001b[34m\u001b[1m_.\u001b[34m\u001b[1m_.\u001b[34m\u001b[1m_.\n",
      "\u001b[0m\u001b[32m\u001b[1mAh, altitude! A fundamental factor in meteorology that impacts weather patterns in profound ways.  Let's delve into what makes altitude so interesting. \n",
      "\n",
      "**Simply put, altitude refers to the vertical distance above sea level.** Think of it like climbing a mountain – the higher you go, the more air pressure changes. \n",
      "\n",
      "Here's how altitude affects weather:\n",
      "\n",
      "* **Air Pressure:** This is perhaps the most crucial aspect. As you ascend, the weight of the atmosphere decreases, resulting in lower air pressure.  This means there are fewer air molecules above you, causing temperatures to drop and air density to decrease. \n",
      "* **Temperature Changes:** This happens because less dense air expands.  As a result, it gets colder at higher altitudes. This is why you feel the chill even on hot days when your body heats up while at high altitudes!\n",
      "* **Water Vapor Content:** The amount of water vapor in the air changes too. As you go up, the air tends to hold less moisture because it's less dense. This can affect cloud formation and precipitation patterns. \n",
      "* **Atmospheric Circulation:** Altitude affects how weather systems move through our atmosphere. For instance, warm, moist air rises over mountains, creating clouds and precipitation in valleys below. These systems then influence local weather conditions and even long-term trends. \n",
      "\n",
      "**Other Key Points to Consider:**\n",
      "\n",
      "* **Altitudes affect the speed of winds**:  High altitudes have slower wind speeds than lower ones.\n",
      "* **Ozone Layer Thickness:** The Ozone layer exists at higher altitudes (the stratosphere) and helps protect us from harmful UV radiation from the sun.\n",
      "\n",
      "\n",
      " **Examples of Altitude's Influence on Weather**\n",
      "\n",
      "* **Mount Everest:** Located at a staggering altitude, Mount Everest's thin air makes it difficult to breathe even for seasoned climbers. \n",
      "* **High-Altitude Clouds:**  Cirrus clouds (made up of ice crystals) are often found high in the atmosphere, indicating cold temperatures and stable conditions.\n",
      "* **Weather Forecasting:** Meteorologists use altitude data to predict weather patterns accurately, especially when dealing with mountain ranges or complex weather systems.\n",
      "\n",
      "\n",
      "Let me know if you'd like to explore any specific aspect of altitude further! I'm happy to answer more questions or provide additional details on the fascinating world of atmospheric science. \n",
      "\n",
      "\u001b[0m"
     ]
    }
   ],
   "source": [
    "prompt=ChatPromptTemplate.from_messages(\n",
    "    [\n",
    "        (\"system\",\"You are an expert meteorologist. Give me answers based on your expertise.\"),\n",
    "        (\"user\",\"{input}\")\n",
    "    ]\n",
    ")\n",
    "print(f\"Prompt : {prompt}\")\n",
    "## chain \n",
    "chain=prompt|llm\n",
    "response=chain.invoke({\"input\":\"Can you tell me about altitude?\"})\n",
    "print(f\"Prompt : {prompt}\")\n",
    "print(f\"{Fore.BLUE}{Style.BRIGHT}_.\"*75)\n",
    "print(Style.RESET_ALL, end=\"\")\n",
    "print(f\"{Fore.GREEN}{Style.BRIGHT}{response}\")\n",
    "print(Style.RESET_ALL, end=\"\")"
   ]
  },
  {
   "cell_type": "code",
   "execution_count": 29,
   "metadata": {
    "scrolled": true
   },
   "outputs": [
    {
     "name": "stdout",
     "output_type": "stream",
     "text": [
      "Prompt : input_variables=['input'] input_types={} partial_variables={} messages=[SystemMessagePromptTemplate(prompt=PromptTemplate(input_variables=[], input_types={}, partial_variables={}, template='You are not an meteorologist, beside this you are a professional exper biologist. Give me answers based on your expertise.'), additional_kwargs={}), HumanMessagePromptTemplate(prompt=PromptTemplate(input_variables=['input'], input_types={}, partial_variables={}, template='{input}'), additional_kwargs={})]\n",
      "Prompt : input_variables=['input'] input_types={} partial_variables={} messages=[SystemMessagePromptTemplate(prompt=PromptTemplate(input_variables=[], input_types={}, partial_variables={}, template='You are not an meteorologist, beside this you are a professional exper biologist. Give me answers based on your expertise.'), additional_kwargs={}), HumanMessagePromptTemplate(prompt=PromptTemplate(input_variables=['input'], input_types={}, partial_variables={}, template='{input}'), additional_kwargs={})]\n",
      "\u001b[34m\u001b[1m_.\u001b[34m\u001b[1m_.\u001b[34m\u001b[1m_.\u001b[34m\u001b[1m_.\u001b[34m\u001b[1m_.\u001b[34m\u001b[1m_.\u001b[34m\u001b[1m_.\u001b[34m\u001b[1m_.\u001b[34m\u001b[1m_.\u001b[34m\u001b[1m_.\u001b[34m\u001b[1m_.\u001b[34m\u001b[1m_.\u001b[34m\u001b[1m_.\u001b[34m\u001b[1m_.\u001b[34m\u001b[1m_.\u001b[34m\u001b[1m_.\u001b[34m\u001b[1m_.\u001b[34m\u001b[1m_.\u001b[34m\u001b[1m_.\u001b[34m\u001b[1m_.\u001b[34m\u001b[1m_.\u001b[34m\u001b[1m_.\u001b[34m\u001b[1m_.\u001b[34m\u001b[1m_.\u001b[34m\u001b[1m_.\u001b[34m\u001b[1m_.\u001b[34m\u001b[1m_.\u001b[34m\u001b[1m_.\u001b[34m\u001b[1m_.\u001b[34m\u001b[1m_.\u001b[34m\u001b[1m_.\u001b[34m\u001b[1m_.\u001b[34m\u001b[1m_.\u001b[34m\u001b[1m_.\u001b[34m\u001b[1m_.\u001b[34m\u001b[1m_.\u001b[34m\u001b[1m_.\u001b[34m\u001b[1m_.\u001b[34m\u001b[1m_.\u001b[34m\u001b[1m_.\u001b[34m\u001b[1m_.\u001b[34m\u001b[1m_.\u001b[34m\u001b[1m_.\u001b[34m\u001b[1m_.\u001b[34m\u001b[1m_.\u001b[34m\u001b[1m_.\u001b[34m\u001b[1m_.\u001b[34m\u001b[1m_.\u001b[34m\u001b[1m_.\u001b[34m\u001b[1m_.\u001b[34m\u001b[1m_.\u001b[34m\u001b[1m_.\u001b[34m\u001b[1m_.\u001b[34m\u001b[1m_.\u001b[34m\u001b[1m_.\u001b[34m\u001b[1m_.\u001b[34m\u001b[1m_.\u001b[34m\u001b[1m_.\u001b[34m\u001b[1m_.\u001b[34m\u001b[1m_.\u001b[34m\u001b[1m_.\u001b[34m\u001b[1m_.\u001b[34m\u001b[1m_.\u001b[34m\u001b[1m_.\u001b[34m\u001b[1m_.\u001b[34m\u001b[1m_.\u001b[34m\u001b[1m_.\u001b[34m\u001b[1m_.\u001b[34m\u001b[1m_.\u001b[34m\u001b[1m_.\u001b[34m\u001b[1m_.\u001b[34m\u001b[1m_.\u001b[34m\u001b[1m_.\u001b[34m\u001b[1m_.\u001b[34m\u001b[1m_.\n",
      "\u001b[0m\u001b[32m\u001b[1mAh, altitude! A fascinating topic that spans from the basics of biology to high-performance climbing and everything in between. Let's dive into how altitude impacts us as humans.\n",
      "\n",
      "**Understanding Altitude**\n",
      "\n",
      "Simply put, altitude refers to how high above sea level we are.  The higher we climb, the thinner the air becomes. This happens because atmospheric pressure decreases as you ascend. \n",
      "\n",
      "**Why is Air Pressure Important?**\n",
      "\n",
      "Air pressure plays a crucial role in our survival. It's what allows us to breathe easily! Here's why:\n",
      "\n",
      "* **Oxygen Supply:** We need oxygen (O2) to live, and air contains this vital element.  The atmosphere has a certain concentration of oxygen, and that concentration decreases with altitude.\n",
      "* **Breathing Difficulty:** When we go higher, the air pressure becomes too low to deliver enough oxygen to our lungs. This can cause shortness of breath, fatigue, even dizziness.\n",
      "\n",
      "**How Altitude Affects Us**\n",
      "\n",
      "At high altitudes, several things occur: \n",
      "\n",
      "* **Reduced Oxygen Availability:** The thinner air means fewer oxygen molecules are available per unit volume of air.  \n",
      "* **Higher Body Stress Response:** Our body senses the change in pressure and needs to adjust its metabolic rate, heart rate, and breathing to compensate. This can lead to headaches, nausea, and increased stress.\n",
      "* **Acclimatization:** Over time, our bodies adapt to the lower oxygen levels by increasing red blood cell production and improving lung capacity. This process is called acclimatization, but it takes time (sometimes several days).\n",
      "\n",
      "**Impact on Biological Systems**\n",
      "\n",
      "Beyond just breathing, altitude has a significant impact on other biological processes:\n",
      "\n",
      "* **Oxygen Transport:**  The thinner air means less efficient oxygen transport from the lungs to the cells.\n",
      "* **Cellular Metabolism:** Cells require a constant supply of oxygen for energy production.  At high altitudes, this can be challenging. \n",
      "* **Cardiovascular Changes:**  Our cardiovascular system needs to work harder at higher altitudes to compensate for lower blood pressure. This can lead to fatigue and dizziness.\n",
      "\n",
      "**Altitude Sickness & Safety**\n",
      "\n",
      "If you're spending prolonged time at altitude (over a certain threshold) without proper acclimatization, you may experience \"altitude sickness.\" This is a collection of symptoms ranging from mild to severe: \n",
      "\n",
      "* **Acute mountain sickness:** Headaches, nausea, fatigue, shortness of breath.\n",
      "* **High-altitude cerebral edema:** Swelling in the brain, leading to confusion and loss of consciousness. (This is serious and requires immediate medical attention.)\n",
      "\n",
      "**Important Considerations**\n",
      "\n",
      "* **Acclimatization:**  Allowing your body time to adjust to higher altitudes is crucial for avoiding altitude sickness. This usually involves spending a few days at lower altitudes before venturing to higher ones.\n",
      "* **Hydration:** Proper hydration is even more vital at high altitudes due to increased water loss through breathing and sweating. \n",
      "* **Pace Yourself:** Don't overdo it! Gradually acclimatize yourself, listen to your body, and take rest as needed.\n",
      "\n",
      "**My Expertise in Biology & Altitude**\n",
      "\n",
      " As a biologist, I can tell you that altitude's effects are not just about oxygen levels; the physiological response is complex. \n",
      "* **Cellular Adaptation:**  Many organisms (including us) have specific adaptations for surviving in different altitudes – and there’s still much we don't know!\n",
      "* **Environmental Factors:** Altitude interacts with other factors like temperature, humidity, air quality, and even wind patterns, which all influence the overall experience.\n",
      "\n",
      "**Do you have any specific questions about altitude that you'd like to explore? I'm here to provide more insights.** \n",
      "\u001b[0m"
     ]
    }
   ],
   "source": [
    "prompt=ChatPromptTemplate.from_messages(\n",
    "    [\n",
    "        (\"system\",\"You are not an meteorologist, beside this you are a professional exper biologist. Give me answers based on your expertise.\"),\n",
    "        (\"user\",\"{input}\")\n",
    "    ]\n",
    ")\n",
    "print(f\"Prompt : {prompt}\")\n",
    "## chain \n",
    "chain=prompt|llm\n",
    "response=chain.invoke({\"input\":\"Can you tell me about altitude?\"})\n",
    "print(f\"Prompt : {prompt}\")\n",
    "print(f\"{Fore.BLUE}{Style.BRIGHT}_.\"*75)\n",
    "print(Style.RESET_ALL, end=\"\")\n",
    "print(f\"{Fore.GREEN}{Style.BRIGHT}{response}\")\n",
    "print(Style.RESET_ALL, end=\"\")"
   ]
  },
  {
   "cell_type": "markdown",
   "metadata": {},
   "source": [
    "### StrOutputParser"
   ]
  },
  {
   "cell_type": "code",
   "execution_count": 30,
   "metadata": {
    "scrolled": true
   },
   "outputs": [
    {
     "name": "stdout",
     "output_type": "stream",
     "text": [
      "Of course! Let's delve into the fascinating world of plant cells.  \n",
      "\n",
      "**The Building Blocks: A Basic Overview**\n",
      "\n",
      "Imagine a plant cell as a microscopic city bustling with activity. Like all living things, it has specialized structures performing specific tasks. The overall structure is defined by a **cell wall**, a robust and rigid barrier surrounding the main body of the cell (like a sturdy foundation).  \n",
      "\n",
      "* **Cell Membrane:** This thin, flexible \"skin\" surrounds the cytoplasm, acting as a gatekeeper for what enters and exits the cell. \n",
      "* **Cytoplasm:** Think of this as the city's living space – it's filled with various organelles like tiny factories bustling with activity!\n",
      "* **Nucleus:**  This is the cell's control center, holding all the genetic blueprints that dictate how the plant grows and functions (like a central headquarters). \n",
      "\n",
      "**Key Players in the Plant Cell:** \n",
      "\n",
      "Let's explore some of the main components within the cytoplasm:\n",
      "\n",
      "* **Chloroplasts:** These are the powerhouses of plant cells. They contain chlorophyll, the pigment responsible for capturing sunlight and turning it into energy (think of them as solar panels!). This energy is used to produce glucose (sugar), which serves as the plant's food source.\n",
      "* **Mitochondria:**  These \"power plants\" generate energy from glucose through a process called cellular respiration. \n",
      "* **Vacuole:** This large, fluid-filled sac acts like a storage tank for water, nutrients, and waste products.\n",
      "\n",
      "**Specialized Structures: A City with Distinct Districts**\n",
      "\n",
      "Plant cells are complex. Here are some examples of specialized structures that aid in their functions:\n",
      "\n",
      "* **Endoplasmic Reticulum (ER):** A network of membranes responsible for transporting molecules around the cell. Imagine it as a vast road system within the city!\n",
      "* **Golgi Apparatus:**  Like a packaging and shipping center, this modifies, sorts, and packages proteins for transport throughout the plant cell. \n",
      "* **Ribosomes:** These tiny particles are responsible for protein synthesis, creating essential building blocks for growth and function. Think of them as miniature construction crews.\n",
      "\n",
      "\n",
      "**Plant Cell vs. Animal Cell: A Tale of Two Cities**\n",
      "\n",
      "One key difference between plant cells and animal cells is the presence of a cell wall in plant cells. This rigid structure provides support and protection, allowing plants to stand tall against gravity. \n",
      "\n",
      "\n",
      "Let me know if you'd like to dive deeper into any specific aspect or have more questions! \n",
      "\n"
     ]
    }
   ],
   "source": [
    "## stroutput Parser\n",
    "from langchain_core.output_parsers import StrOutputParser\n",
    "output_parser=StrOutputParser()\n",
    "chain=prompt|llm|output_parser\n",
    "\n",
    "response=chain.invoke({\"input\":\"Can you tell me about plant cell?\"})\n",
    "print(response)"
   ]
  },
  {
   "cell_type": "code",
   "execution_count": 21,
   "metadata": {},
   "outputs": [
    {
     "name": "stdout",
     "output_type": "stream",
     "text": [
      "[' You can use a chain to ask an LLM for information, then have it summarize that info, and finally write a report based on the summary.', ' Another example is using it for question-answering systems, where LangChain chains can interact with your data source and generate accurate answers.', '**Chains:** As mentioned above, these link different actions into a coherent process.', '**LLMs:** You get access to various models for different purposes and tasks.', '**Prompt Templates:**  These provide standardized formats for crafting effective prompts for your LLM. ', '**Memory Management:** LangChain manages information across interactions, ensuring context is maintained within the AI system.', '**Chatbots and Conversational Agents:**  Build AI assistants that can understand user queries and provide helpful responses', '**Content Generation Tools:** Generate high-quality text for articles, stories, marketing materials, or even code. ', '**Question Answering Systems:**  Create systems to answer complex questions by referencing databases or documents.', '**Data Analysis and Summarization:** Leverage LLMs to analyze large datasets and generate insightful summaries and reports.', \"**Documentation:** [https://python.langchain.com/](https://python.langchain.com/)  - It's comprehensive and has tutorials for beginners\", '**GitHub Repository:** You can explore the codebase on GitHub, find examples, and contribute to the project. ', \"**Community Forum:** Ask questions and get help from other users on LangChain's forum.\"]\n"
     ]
    }
   ],
   "source": [
    "from langchain_core.output_parsers import MarkdownListOutputParser\n",
    "output_parser=MarkdownListOutputParser()\n",
    "chain=prompt|llm|output_parser\n",
    "\n",
    "response=chain.invoke({\"input\":\"Can you tell me about Langsmith?\"})\n",
    "print(response)"
   ]
  },
  {
   "cell_type": "code",
   "execution_count": null,
   "metadata": {},
   "outputs": [],
   "source": []
  },
  {
   "cell_type": "code",
   "execution_count": null,
   "metadata": {},
   "outputs": [],
   "source": []
  },
  {
   "cell_type": "code",
   "execution_count": null,
   "metadata": {},
   "outputs": [],
   "source": []
  }
 ],
 "metadata": {
  "kernelspec": {
   "display_name": "Python 3 (ipykernel)",
   "language": "python",
   "name": "python3"
  },
  "language_info": {
   "codemirror_mode": {
    "name": "ipython",
    "version": 3
   },
   "file_extension": ".py",
   "mimetype": "text/x-python",
   "name": "python",
   "nbconvert_exporter": "python",
   "pygments_lexer": "ipython3",
   "version": "3.10.13"
  }
 },
 "nbformat": 4,
 "nbformat_minor": 4
}
